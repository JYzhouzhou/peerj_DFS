{
 "cells": [
  {
   "cell_type": "code",
   "execution_count": 1,
   "id": "ae4422eb",
   "metadata": {},
   "outputs": [],
   "source": [
    "import numpy as np\n",
    "import scipy\n",
    "import pandas as pd\n",
    "from sklearn.ensemble import RandomForestClassifier\n",
    "from sklearn.tree import DecisionTreeClassifier\n",
    "\n",
    "from sklearn.model_selection import train_test_split, cross_val_score, GridSearchCV\n",
    "from sklearn.metrics import roc_curve, auc, roc_auc_score\n",
    "\n",
    "import matplotlib.pyplot as plt"
   ]
  },
  {
   "cell_type": "code",
   "execution_count": 2,
   "id": "8eb90fbe",
   "metadata": {},
   "outputs": [],
   "source": [
    "df=pd.read_csv('C:\\\\Users\\\\zhouzhou\\\\Desktop\\\\code\\\\RF\\\\data2.csv',encoding='utf-8')"
   ]
  },
  {
   "cell_type": "code",
   "execution_count": 3,
   "id": "a9b17fdd",
   "metadata": {},
   "outputs": [
    {
     "data": {
      "text/plain": [
       "2"
      ]
     },
     "execution_count": 3,
     "metadata": {},
     "output_type": "execute_result"
    }
   ],
   "source": [
    "df.exist.nunique()"
   ]
  },
  {
   "cell_type": "code",
   "execution_count": 4,
   "id": "a14169e2",
   "metadata": {},
   "outputs": [
    {
     "data": {
      "text/plain": [
       "0    624\n",
       "1    446\n",
       "Name: exist, dtype: int64"
      ]
     },
     "execution_count": 4,
     "metadata": {},
     "output_type": "execute_result"
    }
   ],
   "source": [
    "# Labelled as whether or not a debris flow has occurred, and labelled as 1 if it has occurred, and 0 otherwise.\n",
    "df.exist.value_counts()"
   ]
  },
  {
   "cell_type": "code",
   "execution_count": 5,
   "id": "4b94c6d2",
   "metadata": {},
   "outputs": [
    {
     "data": {
      "text/plain": [
       "0    0\n",
       "1    1\n",
       "2    0\n",
       "3    1\n",
       "4    0\n",
       "Name: exist, dtype: int64"
      ]
     },
     "execution_count": 5,
     "metadata": {},
     "output_type": "execute_result"
    }
   ],
   "source": [
    "y=df.exist\n",
    "y.head()"
   ]
  },
  {
   "cell_type": "code",
   "execution_count": 6,
   "id": "797cb402",
   "metadata": {},
   "outputs": [],
   "source": [
    "# x is the remaining data after deleting the label column\n",
    "x=df.drop('exist', axis=1)"
   ]
  },
  {
   "cell_type": "code",
   "execution_count": 7,
   "id": "8dfd1317",
   "metadata": {},
   "outputs": [],
   "source": [
    "# Dividing the data in a 7:3 ratio for training and testing respectively\n",
    "seed=5\n",
    "xtrain, xtest, ytrain, ytest = train_test_split(x, y, test_size=0.3, random_state=seed)"
   ]
  },
  {
   "cell_type": "code",
   "execution_count": 8,
   "id": "5d2bbee0",
   "metadata": {},
   "outputs": [
    {
     "data": {
      "text/plain": [
       "0.7632398753894081"
      ]
     },
     "execution_count": 8,
     "metadata": {},
     "output_type": "execute_result"
    }
   ],
   "source": [
    "# Train a random forest model using initial parameters and output the initial accuracy of the model\n",
    "rfc = RandomForestClassifier()     \n",
    "rfc = rfc.fit(xtrain,ytrain)       \n",
    "result = rfc.score(xtest,ytest)   \n",
    "result"
   ]
  },
  {
   "cell_type": "code",
   "execution_count": 9,
   "id": "2b4f33ed",
   "metadata": {},
   "outputs": [
    {
     "data": {
      "text/plain": [
       "0.8256206756206756"
      ]
     },
     "execution_count": 9,
     "metadata": {},
     "output_type": "execute_result"
    }
   ],
   "source": [
    "# AUC\n",
    "roc_auc_score(ytest, rfc.predict_proba(xtest)[:,1]) "
   ]
  },
  {
   "cell_type": "code",
   "execution_count": 10,
   "id": "0391bb7b",
   "metadata": {},
   "outputs": [
    {
     "name": "stdout",
     "output_type": "stream",
     "text": [
      "feature important ：[0.04151414 0.12831994 0.16108441 0.05906918 0.06652566 0.05061659\n",
      " 0.05105783 0.         0.04446956 0.03874184 0.08367926 0.\n",
      " 0.         0.04979085 0.10510053 0.04167948 0.03734577 0.04100497]\n"
     ]
    }
   ],
   "source": [
    "print ('feature important ：%s' % rfc.feature_importances_)"
   ]
  },
  {
   "cell_type": "code",
   "execution_count": 11,
   "id": "24efb48b",
   "metadata": {},
   "outputs": [
    {
     "name": "stdout",
     "output_type": "stream",
     "text": [
      "Feature ranking:\n",
      " 1) Average slope                  0.161084\n",
      " 2) Relative elevation difference  0.128320\n",
      " 3) Average rainfall during the rainy season 0.105101\n",
      " 4) Density of urban quaternary roads 0.083679\n",
      " 5) Clay content                   0.066526\n",
      " 6) NDVI                           0.059069\n",
      " 7) Silt content                   0.051058\n",
      " 8) Sand content                   0.050617\n",
      " 9) Fracture zone density          0.049791\n",
      "10) Density of urban secondary roads 0.044470\n",
      "11) Number of rainstorms           0.041679\n",
      "12) Watershed area                 0.041514\n",
      "13) Number of heavy rains          0.041005\n",
      "14) Density of urban tertiary roads 0.038742\n",
      "15) Number of heavy rainstorms     0.037346\n",
      "16) Density of urban primary roads 0.000000\n",
      "17) Highway density                0.000000\n",
      "18) Railway density                0.000000\n"
     ]
    },
    {
     "data": {
      "image/png": "[encoded data removed]",
      "text/plain": [
       "<Figure size 640x480 with 1 Axes>"
      ]
     },
     "metadata": {},
     "output_type": "display_data"
    }
   ],
   "source": [
    "importances = rfc.feature_importances_\n",
    "std = np.std([tree.feature_importances_ for tree in rfc.estimators_], axis=0)\n",
    "indices = np.argsort(importances)[::-1]# Print the feature ranking\n",
    "print(\"Feature ranking:\")\n",
    "for f in range(min(20,xtrain.shape[1])):    \n",
    "    print(\"%2d) %-*s %f\" % (f + 1, 30, xtrain.columns[indices[f]], importances[indices[f]]))# Plot the feature importances of the forest\n",
    "plt.figure()\n",
    "plt.title(\"Feature importances\")\n",
    "plt.bar(range(xtrain.shape[1]), importances[indices],  color=\"r\", yerr=std[indices], align=\"center\")\n",
    "plt.xticks(range(xtrain.shape[1]), indices)\n",
    "plt.xlim([-1, xtrain.shape[1]])\n",
    "plt.show()"
   ]
  },
  {
   "cell_type": "code",
   "execution_count": 12,
   "id": "6a9d33a4",
   "metadata": {},
   "outputs": [
    {
     "data": {
      "image/png": "[encoded data removed]",
      "text/plain": [
       "<Figure size 640x480 with 1 Axes>"
      ]
     },
     "metadata": {},
     "output_type": "display_data"
    }
   ],
   "source": [
    "predictions_validation = rfc.predict_proba(xtest)[:,1]\n",
    "fpr, tpr, _ = roc_curve(ytest, predictions_validation)\n",
    "roc_auc = auc(fpr, tpr)\n",
    "plt.title('ROC Validation')\n",
    "plt.plot(fpr, tpr, 'b', label='AUC = %0.2f' % roc_auc)\n",
    "plt.legend(loc='lower right')\n",
    "plt.plot([0, 1], [0, 1], 'r--')\n",
    "plt.xlim([0, 1])\n",
    "plt.ylim([0, 1])\n",
    "plt.ylabel('True Positive Rate')\n",
    "plt.xlabel('False Positive Rate')\n",
    "plt.show()"
   ]
  },
  {
   "cell_type": "code",
   "execution_count": 13,
   "id": "befaa732",
   "metadata": {},
   "outputs": [
    {
     "name": "stdout",
     "output_type": "stream",
     "text": [
      "0.7075973154362416\n",
      "0.7770917225950783\n"
     ]
    }
   ],
   "source": [
    "clf = DecisionTreeClassifier(max_depth=None, min_samples_split=2,random_state=0)\n",
    "scores = cross_val_score(clf, xtrain, ytrain)\n",
    "print(scores.mean())                             \n",
    "\n",
    "clf2 = RandomForestClassifier(n_estimators=10, max_depth=None,min_samples_split=2, random_state=0)\n",
    "scores = cross_val_score(clf2, xtrain, ytrain)\n",
    "print(scores.mean())                             "
   ]
  },
  {
   "cell_type": "code",
   "execution_count": 14,
   "id": "bddd35d5",
   "metadata": {},
   "outputs": [
    {
     "data": {
      "text/plain": [
       "<bound method BaseEstimator.get_params of RandomForestClassifier()>"
      ]
     },
     "execution_count": 14,
     "metadata": {},
     "output_type": "execute_result"
    }
   ],
   "source": [
    "rfc.get_params"
   ]
  },
  {
   "cell_type": "code",
   "execution_count": 18,
   "id": "6112f907",
   "metadata": {},
   "outputs": [
    {
     "name": "stdout",
     "output_type": "stream",
     "text": [
      "{'n_estimators': 75} 0.822484610123119\n"
     ]
    }
   ],
   "source": [
    "#25-500 for parameter(n_estimators) tuning in steps of 25\n",
    "param_test1 = {'n_estimators': range(25,500,25)}\n",
    "gsearch1 = GridSearchCV(estimator = RandomForestClassifier(min_samples_split=100, \n",
    "                                                           min_samples_leaf=20,\n",
    "                                                           max_depth=8, random_state=10), \n",
    "                        param_grid = param_test1, \n",
    "                        scoring='roc_auc', \n",
    "                        cv=5)\n",
    "gsearch1.fit(xtrain, ytrain)\n",
    "print(gsearch1.best_params_, gsearch1.best_score_)\n",
    "# # Print the best hyperparameter and the ROC value at the time the value was taken"
   ]
  },
  {
   "cell_type": "code",
   "execution_count": 25,
   "id": "c119f591",
   "metadata": {},
   "outputs": [
    {
     "name": "stdout",
     "output_type": "stream",
     "text": [
      "{'min_samples_leaf': 10, 'min_samples_split': 60} 0.8305813953488371\n"
     ]
    }
   ],
   "source": [
    "param_test2 = {'min_samples_split':range(60, 200, 20), 'min_samples_leaf':range(10, 110, 10)}\n",
    "gsearch2 = GridSearchCV(estimator = RandomForestClassifier(n_estimators=75,\n",
    "                                                           max_depth=8, random_state=10), \n",
    "                        param_grid = param_test2, \n",
    "                        scoring='roc_auc',\n",
    "                        cv=5)\n",
    "gsearch2.fit(xtrain,ytrain)\n",
    "print(gsearch2.best_params_, gsearch2.best_score_)"
   ]
  },
  {
   "cell_type": "code",
   "execution_count": 19,
   "id": "15162a64",
   "metadata": {},
   "outputs": [
    {
     "name": "stdout",
     "output_type": "stream",
     "text": [
      "{'max_depth': 8} 0.8305813953488371\n"
     ]
    }
   ],
   "source": [
    "param_test3 = {'max_depth':range(3, 30, 1)}\n",
    "gsearch3 = GridSearchCV(estimator = RandomForestClassifier(n_estimators=75,\n",
    "                                                           min_samples_split=60, \n",
    "                                                           min_samples_leaf=10,\n",
    "                                                           random_state=10), \n",
    "                        param_grid = param_test3, \n",
    "                        scoring='roc_auc',\n",
    "                        cv=5)\n",
    "gsearch3.fit(xtrain,ytrain)\n",
    "print(gsearch3.best_params_, gsearch3.best_score_)"
   ]
  },
  {
   "cell_type": "code",
   "execution_count": 20,
   "id": "b3b7c355",
   "metadata": {},
   "outputs": [
    {
     "data": {
      "text/plain": [
       "0.7873422873422874"
      ]
     },
     "execution_count": 20,
     "metadata": {},
     "output_type": "execute_result"
    }
   ],
   "source": [
    "roc_auc_score(ytest, gsearch3.best_estimator_.predict_proba(xtest)[:,1])"
   ]
  },
  {
   "cell_type": "code",
   "execution_count": 28,
   "id": "591fd8f2",
   "metadata": {},
   "outputs": [
    {
     "data": {
      "text/plain": [
       "RandomForestClassifier(max_depth=11, min_samples_leaf=10, min_samples_split=60,\n",
       "                       n_estimators=75, random_state=10)"
      ]
     },
     "execution_count": 28,
     "metadata": {},
     "output_type": "execute_result"
    }
   ],
   "source": [
    "gsearch3.best_estimator_"
   ]
  },
  {
   "cell_type": "code",
   "execution_count": 26,
   "id": "6a52d942",
   "metadata": {},
   "outputs": [
    {
     "name": "stdout",
     "output_type": "stream",
     "text": [
      "{'class_weight': 'balanced', 'criterion': 'entropy'} 0.8342600034199726\n"
     ]
    }
   ],
   "source": [
    "param_test4 = {'criterion':['gini', 'entropy'], 'class_weight':[None, 'balanced']}\n",
    "gsearch4 = GridSearchCV(estimator = RandomForestClassifier(n_estimators=75,\n",
    "                                                           max_depth=8, \n",
    "                                                           min_samples_split=60, \n",
    "                                                           min_samples_leaf=10,\n",
    "                                                           random_state=10), \n",
    "                        param_grid = param_test4, \n",
    "                        scoring='roc_auc',\n",
    "                        cv=5)\n",
    "gsearch4.fit(xtrain,ytrain)\n",
    "print(gsearch4.best_params_, gsearch4.best_score_)"
   ]
  },
  {
   "cell_type": "code",
   "execution_count": 27,
   "id": "69289ae0",
   "metadata": {},
   "outputs": [
    {
     "data": {
      "text/plain": [
       "0.7926332926332926"
      ]
     },
     "execution_count": 27,
     "metadata": {},
     "output_type": "execute_result"
    }
   ],
   "source": [
    "roc_auc_score(ytest, gsearch4.best_estimator_.predict_proba(xtest)[:,1])"
   ]
  },
  {
   "cell_type": "code",
   "execution_count": 28,
   "id": "a22372cb",
   "metadata": {
    "scrolled": true
   },
   "outputs": [
    {
     "data": {
      "text/plain": [
       "RandomForestClassifier(class_weight='balanced', criterion='entropy',\n",
       "                       max_depth=8, min_samples_leaf=10, min_samples_split=60,\n",
       "                       n_estimators=75, random_state=10)"
      ]
     },
     "execution_count": 28,
     "metadata": {},
     "output_type": "execute_result"
    }
   ],
   "source": [
    "gsearch4.best_estimator_"
   ]
  },
  {
   "cell_type": "code",
   "execution_count": 29,
   "id": "9123a788",
   "metadata": {},
   "outputs": [
    {
     "data": {
      "image/png": "[encoded data removed]",
      "text/plain": [
       "<Figure size 432x288 with 1 Axes>"
      ]
     },
     "metadata": {
      "needs_background": "light"
     },
     "output_type": "display_data"
    }
   ],
   "source": [
    "predictions_validation = gsearch4.predict_proba(xtest)[:,1]\n",
    "fpr, tpr, _ = roc_curve(ytest, predictions_validation)\n",
    "roc_auc = auc(fpr, tpr)\n",
    "plt.title('ROC Validation')\n",
    "plt.plot(fpr, tpr, 'b', label='AUC = %0.2f' % roc_auc)\n",
    "plt.legend(loc='lower right')\n",
    "plt.plot([0, 1], [0, 1], 'r--')\n",
    "plt.xlim([0, 1])\n",
    "plt.ylim([0, 1])\n",
    "plt.ylabel('True Positive Rate')\n",
    "plt.xlabel('False Positive Rate')\n",
    "plt.show()"
   ]
  },
  {
   "cell_type": "code",
   "execution_count": null,
   "id": "1ca902b9",
   "metadata": {
    "scrolled": false
   },
   "outputs": [],
   "source": []
  },
  {
   "cell_type": "code",
   "execution_count": null,
   "id": "06e55738",
   "metadata": {},
   "outputs": [],
   "source": []
  }
 ],
 "metadata": {
  "kernelspec": {
   "display_name": "Python 3 (ipykernel)",
   "language": "python",
   "name": "python3"
  },
  "language_info": {
   "codemirror_mode": {
    "name": "ipython",
    "version": 3
   },
   "file_extension": ".py",
   "mimetype": "text/x-python",
   "name": "python",
   "nbconvert_exporter": "python",
   "pygments_lexer": "ipython3",
   "version": "3.11.3"
  }
 },
 "nbformat": 4,
 "nbformat_minor": 5
}
