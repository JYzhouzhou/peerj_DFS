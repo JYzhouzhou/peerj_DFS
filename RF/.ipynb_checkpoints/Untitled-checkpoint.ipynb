{
 "cells": [
  {
   "cell_type": "code",
   "execution_count": 33,
   "id": "ae4422eb",
   "metadata": {},
   "outputs": [],
   "source": [
    "import numpy as np\n",
    "import scipy\n",
    "import pandas as pd\n",
    "from sklearn.ensemble import RandomForestClassifier\n",
    "from sklearn.tree import DecisionTreeClassifier\n",
    "\n",
    "from sklearn.model_selection import train_test_split, cross_val_score, GridSearchCV\n",
    "from sklearn.metrics import roc_curve, auc, roc_auc_score\n",
    "\n",
    "import matplotlib.pyplot as plt"
   ]
  },
  {
   "cell_type": "code",
   "execution_count": 3,
   "id": "8eb90fbe",
   "metadata": {},
   "outputs": [],
   "source": [
    "df=pd.read_csv('C:\\\\Users\\\\zhouzhou\\\\Desktop\\\\RF\\\\data1.csv',encoding='utf-8')"
   ]
  },
  {
   "cell_type": "code",
   "execution_count": 4,
   "id": "69acf7c7",
   "metadata": {},
   "outputs": [
    {
     "data": {
      "text/html": [
       "<div>\n",
       "<style scoped>\n",
       "    .dataframe tbody tr th:only-of-type {\n",
       "        vertical-align: middle;\n",
       "    }\n",
       "\n",
       "    .dataframe tbody tr th {\n",
       "        vertical-align: top;\n",
       "    }\n",
       "\n",
       "    .dataframe thead th {\n",
       "        text-align: right;\n",
       "    }\n",
       "</style>\n",
       "<table border=\"1\" class=\"dataframe\">\n",
       "  <thead>\n",
       "    <tr style=\"text-align: right;\">\n",
       "      <th></th>\n",
       "      <th>流域面积</th>\n",
       "      <th>相对高差</th>\n",
       "      <th>平均坡度</th>\n",
       "      <th>ndvi</th>\n",
       "      <th>clay</th>\n",
       "      <th>sand</th>\n",
       "      <th>silt</th>\n",
       "      <th>一级道路密度</th>\n",
       "      <th>二级道路密度</th>\n",
       "      <th>三级道路密度</th>\n",
       "      <th>四级道路密度</th>\n",
       "      <th>高速公路密度</th>\n",
       "      <th>铁路密度</th>\n",
       "      <th>断裂带密度</th>\n",
       "      <th>雨季降雨量均值</th>\n",
       "      <th>暴雨数量</th>\n",
       "      <th>特大暴雨数量</th>\n",
       "      <th>大暴雨数量</th>\n",
       "      <th>大雨数量</th>\n",
       "      <th>发生</th>\n",
       "    </tr>\n",
       "  </thead>\n",
       "  <tbody>\n",
       "    <tr>\n",
       "      <th>0</th>\n",
       "      <td>0.567935</td>\n",
       "      <td>277</td>\n",
       "      <td>27.903000</td>\n",
       "      <td>0.027054</td>\n",
       "      <td>8.000000</td>\n",
       "      <td>80.000000</td>\n",
       "      <td>12.000000</td>\n",
       "      <td>0</td>\n",
       "      <td>0.0</td>\n",
       "      <td>0.0</td>\n",
       "      <td>0.005915</td>\n",
       "      <td>0</td>\n",
       "      <td>0</td>\n",
       "      <td>0.012694</td>\n",
       "      <td>2.82563</td>\n",
       "      <td>0.004865</td>\n",
       "      <td>0.004865</td>\n",
       "      <td>0.004865</td>\n",
       "      <td>0.004865</td>\n",
       "      <td>0</td>\n",
       "    </tr>\n",
       "    <tr>\n",
       "      <th>1</th>\n",
       "      <td>57.844101</td>\n",
       "      <td>3176</td>\n",
       "      <td>30.784300</td>\n",
       "      <td>0.370054</td>\n",
       "      <td>15.963000</td>\n",
       "      <td>55.500000</td>\n",
       "      <td>28.537001</td>\n",
       "      <td>0</td>\n",
       "      <td>0.0</td>\n",
       "      <td>0.0</td>\n",
       "      <td>0.000080</td>\n",
       "      <td>0</td>\n",
       "      <td>0</td>\n",
       "      <td>0.000054</td>\n",
       "      <td>2.95123</td>\n",
       "      <td>0.495488</td>\n",
       "      <td>0.495488</td>\n",
       "      <td>0.495488</td>\n",
       "      <td>0.495488</td>\n",
       "      <td>1</td>\n",
       "    </tr>\n",
       "    <tr>\n",
       "      <th>2</th>\n",
       "      <td>0.801935</td>\n",
       "      <td>1306</td>\n",
       "      <td>34.122002</td>\n",
       "      <td>-0.035788</td>\n",
       "      <td>8.131340</td>\n",
       "      <td>79.666603</td>\n",
       "      <td>12.202100</td>\n",
       "      <td>0</td>\n",
       "      <td>0.0</td>\n",
       "      <td>0.0</td>\n",
       "      <td>0.006642</td>\n",
       "      <td>0</td>\n",
       "      <td>0</td>\n",
       "      <td>0.006128</td>\n",
       "      <td>3.21309</td>\n",
       "      <td>0.006869</td>\n",
       "      <td>0.006869</td>\n",
       "      <td>0.006869</td>\n",
       "      <td>0.006869</td>\n",
       "      <td>0</td>\n",
       "    </tr>\n",
       "    <tr>\n",
       "      <th>3</th>\n",
       "      <td>98.233101</td>\n",
       "      <td>4197</td>\n",
       "      <td>33.801998</td>\n",
       "      <td>0.290875</td>\n",
       "      <td>16.052601</td>\n",
       "      <td>55.326302</td>\n",
       "      <td>28.621099</td>\n",
       "      <td>0</td>\n",
       "      <td>0.0</td>\n",
       "      <td>0.0</td>\n",
       "      <td>0.000058</td>\n",
       "      <td>0</td>\n",
       "      <td>0</td>\n",
       "      <td>0.000085</td>\n",
       "      <td>3.19034</td>\n",
       "      <td>2.000000</td>\n",
       "      <td>2.000000</td>\n",
       "      <td>2.000000</td>\n",
       "      <td>2.000000</td>\n",
       "      <td>1</td>\n",
       "    </tr>\n",
       "    <tr>\n",
       "      <th>4</th>\n",
       "      <td>2.046280</td>\n",
       "      <td>1298</td>\n",
       "      <td>42.111301</td>\n",
       "      <td>-0.153919</td>\n",
       "      <td>8.000000</td>\n",
       "      <td>80.000000</td>\n",
       "      <td>12.000000</td>\n",
       "      <td>0</td>\n",
       "      <td>0.0</td>\n",
       "      <td>0.0</td>\n",
       "      <td>0.002916</td>\n",
       "      <td>0</td>\n",
       "      <td>0</td>\n",
       "      <td>0.034815</td>\n",
       "      <td>3.53715</td>\n",
       "      <td>0.017528</td>\n",
       "      <td>0.017528</td>\n",
       "      <td>0.017528</td>\n",
       "      <td>0.017528</td>\n",
       "      <td>0</td>\n",
       "    </tr>\n",
       "  </tbody>\n",
       "</table>\n",
       "</div>"
      ],
      "text/plain": [
       "        流域面积  相对高差       平均坡度      ndvi       clay       sand       silt  \\\n",
       "0   0.567935   277  27.903000  0.027054   8.000000  80.000000  12.000000   \n",
       "1  57.844101  3176  30.784300  0.370054  15.963000  55.500000  28.537001   \n",
       "2   0.801935  1306  34.122002 -0.035788   8.131340  79.666603  12.202100   \n",
       "3  98.233101  4197  33.801998  0.290875  16.052601  55.326302  28.621099   \n",
       "4   2.046280  1298  42.111301 -0.153919   8.000000  80.000000  12.000000   \n",
       "\n",
       "   一级道路密度  二级道路密度  三级道路密度    四级道路密度  高速公路密度  铁路密度     断裂带密度  雨季降雨量均值  \\\n",
       "0       0     0.0     0.0  0.005915       0     0  0.012694  2.82563   \n",
       "1       0     0.0     0.0  0.000080       0     0  0.000054  2.95123   \n",
       "2       0     0.0     0.0  0.006642       0     0  0.006128  3.21309   \n",
       "3       0     0.0     0.0  0.000058       0     0  0.000085  3.19034   \n",
       "4       0     0.0     0.0  0.002916       0     0  0.034815  3.53715   \n",
       "\n",
       "       暴雨数量    特大暴雨数量     大暴雨数量      大雨数量  发生  \n",
       "0  0.004865  0.004865  0.004865  0.004865   0  \n",
       "1  0.495488  0.495488  0.495488  0.495488   1  \n",
       "2  0.006869  0.006869  0.006869  0.006869   0  \n",
       "3  2.000000  2.000000  2.000000  2.000000   1  \n",
       "4  0.017528  0.017528  0.017528  0.017528   0  "
      ]
     },
     "execution_count": 4,
     "metadata": {},
     "output_type": "execute_result"
    }
   ],
   "source": [
    "df.head()"
   ]
  },
  {
   "cell_type": "code",
   "execution_count": 5,
   "id": "a9b17fdd",
   "metadata": {},
   "outputs": [
    {
     "data": {
      "text/plain": [
       "2"
      ]
     },
     "execution_count": 5,
     "metadata": {},
     "output_type": "execute_result"
    }
   ],
   "source": [
    "df.发生.nunique()"
   ]
  },
  {
   "cell_type": "code",
   "execution_count": 6,
   "id": "a14169e2",
   "metadata": {},
   "outputs": [
    {
     "data": {
      "text/plain": [
       "0    624\n",
       "1    446\n",
       "Name: 发生, dtype: int64"
      ]
     },
     "execution_count": 6,
     "metadata": {},
     "output_type": "execute_result"
    }
   ],
   "source": [
    "df.发生.value_counts()"
   ]
  },
  {
   "cell_type": "code",
   "execution_count": 7,
   "id": "4b94c6d2",
   "metadata": {},
   "outputs": [
    {
     "data": {
      "text/plain": [
       "0    0\n",
       "1    1\n",
       "2    0\n",
       "3    1\n",
       "4    0\n",
       "Name: 发生, dtype: int64"
      ]
     },
     "execution_count": 7,
     "metadata": {},
     "output_type": "execute_result"
    }
   ],
   "source": [
    "y=df.发生\n",
    "y.head()"
   ]
  },
  {
   "cell_type": "code",
   "execution_count": 8,
   "id": "797cb402",
   "metadata": {},
   "outputs": [
    {
     "data": {
      "text/html": [
       "<div>\n",
       "<style scoped>\n",
       "    .dataframe tbody tr th:only-of-type {\n",
       "        vertical-align: middle;\n",
       "    }\n",
       "\n",
       "    .dataframe tbody tr th {\n",
       "        vertical-align: top;\n",
       "    }\n",
       "\n",
       "    .dataframe thead th {\n",
       "        text-align: right;\n",
       "    }\n",
       "</style>\n",
       "<table border=\"1\" class=\"dataframe\">\n",
       "  <thead>\n",
       "    <tr style=\"text-align: right;\">\n",
       "      <th></th>\n",
       "      <th>流域面积</th>\n",
       "      <th>相对高差</th>\n",
       "      <th>平均坡度</th>\n",
       "      <th>ndvi</th>\n",
       "      <th>clay</th>\n",
       "      <th>sand</th>\n",
       "      <th>silt</th>\n",
       "      <th>一级道路密度</th>\n",
       "      <th>二级道路密度</th>\n",
       "      <th>三级道路密度</th>\n",
       "      <th>四级道路密度</th>\n",
       "      <th>高速公路密度</th>\n",
       "      <th>铁路密度</th>\n",
       "      <th>断裂带密度</th>\n",
       "      <th>雨季降雨量均值</th>\n",
       "      <th>暴雨数量</th>\n",
       "      <th>特大暴雨数量</th>\n",
       "      <th>大暴雨数量</th>\n",
       "      <th>大雨数量</th>\n",
       "    </tr>\n",
       "  </thead>\n",
       "  <tbody>\n",
       "    <tr>\n",
       "      <th>0</th>\n",
       "      <td>0.567935</td>\n",
       "      <td>277</td>\n",
       "      <td>27.903000</td>\n",
       "      <td>0.027054</td>\n",
       "      <td>8.000000</td>\n",
       "      <td>80.000000</td>\n",
       "      <td>12.000000</td>\n",
       "      <td>0</td>\n",
       "      <td>0.0</td>\n",
       "      <td>0.0</td>\n",
       "      <td>0.005915</td>\n",
       "      <td>0</td>\n",
       "      <td>0</td>\n",
       "      <td>0.012694</td>\n",
       "      <td>2.82563</td>\n",
       "      <td>0.004865</td>\n",
       "      <td>0.004865</td>\n",
       "      <td>0.004865</td>\n",
       "      <td>0.004865</td>\n",
       "    </tr>\n",
       "    <tr>\n",
       "      <th>1</th>\n",
       "      <td>57.844101</td>\n",
       "      <td>3176</td>\n",
       "      <td>30.784300</td>\n",
       "      <td>0.370054</td>\n",
       "      <td>15.963000</td>\n",
       "      <td>55.500000</td>\n",
       "      <td>28.537001</td>\n",
       "      <td>0</td>\n",
       "      <td>0.0</td>\n",
       "      <td>0.0</td>\n",
       "      <td>0.000080</td>\n",
       "      <td>0</td>\n",
       "      <td>0</td>\n",
       "      <td>0.000054</td>\n",
       "      <td>2.95123</td>\n",
       "      <td>0.495488</td>\n",
       "      <td>0.495488</td>\n",
       "      <td>0.495488</td>\n",
       "      <td>0.495488</td>\n",
       "    </tr>\n",
       "    <tr>\n",
       "      <th>2</th>\n",
       "      <td>0.801935</td>\n",
       "      <td>1306</td>\n",
       "      <td>34.122002</td>\n",
       "      <td>-0.035788</td>\n",
       "      <td>8.131340</td>\n",
       "      <td>79.666603</td>\n",
       "      <td>12.202100</td>\n",
       "      <td>0</td>\n",
       "      <td>0.0</td>\n",
       "      <td>0.0</td>\n",
       "      <td>0.006642</td>\n",
       "      <td>0</td>\n",
       "      <td>0</td>\n",
       "      <td>0.006128</td>\n",
       "      <td>3.21309</td>\n",
       "      <td>0.006869</td>\n",
       "      <td>0.006869</td>\n",
       "      <td>0.006869</td>\n",
       "      <td>0.006869</td>\n",
       "    </tr>\n",
       "    <tr>\n",
       "      <th>3</th>\n",
       "      <td>98.233101</td>\n",
       "      <td>4197</td>\n",
       "      <td>33.801998</td>\n",
       "      <td>0.290875</td>\n",
       "      <td>16.052601</td>\n",
       "      <td>55.326302</td>\n",
       "      <td>28.621099</td>\n",
       "      <td>0</td>\n",
       "      <td>0.0</td>\n",
       "      <td>0.0</td>\n",
       "      <td>0.000058</td>\n",
       "      <td>0</td>\n",
       "      <td>0</td>\n",
       "      <td>0.000085</td>\n",
       "      <td>3.19034</td>\n",
       "      <td>2.000000</td>\n",
       "      <td>2.000000</td>\n",
       "      <td>2.000000</td>\n",
       "      <td>2.000000</td>\n",
       "    </tr>\n",
       "    <tr>\n",
       "      <th>4</th>\n",
       "      <td>2.046280</td>\n",
       "      <td>1298</td>\n",
       "      <td>42.111301</td>\n",
       "      <td>-0.153919</td>\n",
       "      <td>8.000000</td>\n",
       "      <td>80.000000</td>\n",
       "      <td>12.000000</td>\n",
       "      <td>0</td>\n",
       "      <td>0.0</td>\n",
       "      <td>0.0</td>\n",
       "      <td>0.002916</td>\n",
       "      <td>0</td>\n",
       "      <td>0</td>\n",
       "      <td>0.034815</td>\n",
       "      <td>3.53715</td>\n",
       "      <td>0.017528</td>\n",
       "      <td>0.017528</td>\n",
       "      <td>0.017528</td>\n",
       "      <td>0.017528</td>\n",
       "    </tr>\n",
       "  </tbody>\n",
       "</table>\n",
       "</div>"
      ],
      "text/plain": [
       "        流域面积  相对高差       平均坡度      ndvi       clay       sand       silt  \\\n",
       "0   0.567935   277  27.903000  0.027054   8.000000  80.000000  12.000000   \n",
       "1  57.844101  3176  30.784300  0.370054  15.963000  55.500000  28.537001   \n",
       "2   0.801935  1306  34.122002 -0.035788   8.131340  79.666603  12.202100   \n",
       "3  98.233101  4197  33.801998  0.290875  16.052601  55.326302  28.621099   \n",
       "4   2.046280  1298  42.111301 -0.153919   8.000000  80.000000  12.000000   \n",
       "\n",
       "   一级道路密度  二级道路密度  三级道路密度    四级道路密度  高速公路密度  铁路密度     断裂带密度  雨季降雨量均值  \\\n",
       "0       0     0.0     0.0  0.005915       0     0  0.012694  2.82563   \n",
       "1       0     0.0     0.0  0.000080       0     0  0.000054  2.95123   \n",
       "2       0     0.0     0.0  0.006642       0     0  0.006128  3.21309   \n",
       "3       0     0.0     0.0  0.000058       0     0  0.000085  3.19034   \n",
       "4       0     0.0     0.0  0.002916       0     0  0.034815  3.53715   \n",
       "\n",
       "       暴雨数量    特大暴雨数量     大暴雨数量      大雨数量  \n",
       "0  0.004865  0.004865  0.004865  0.004865  \n",
       "1  0.495488  0.495488  0.495488  0.495488  \n",
       "2  0.006869  0.006869  0.006869  0.006869  \n",
       "3  2.000000  2.000000  2.000000  2.000000  \n",
       "4  0.017528  0.017528  0.017528  0.017528  "
      ]
     },
     "execution_count": 8,
     "metadata": {},
     "output_type": "execute_result"
    }
   ],
   "source": [
    "x=df.drop('发生', axis=1)   #dataframe.drop('isrun', axis=1)\n",
    "x.head()"
   ]
  },
  {
   "cell_type": "code",
   "execution_count": 9,
   "id": "8dfd1317",
   "metadata": {},
   "outputs": [],
   "source": [
    "seed=5\n",
    "xtrain, xtest, ytrain, ytest = train_test_split(x, y, test_size=0.3, random_state=seed)"
   ]
  },
  {
   "cell_type": "code",
   "execution_count": 10,
   "id": "5d2bbee0",
   "metadata": {},
   "outputs": [
    {
     "data": {
      "text/plain": [
       "0.7601246105919003"
      ]
     },
     "execution_count": 10,
     "metadata": {},
     "output_type": "execute_result"
    }
   ],
   "source": [
    "rfc = RandomForestClassifier()     #实例化 \n",
    "rfc = rfc.fit(xtrain,ytrain)       #用训练集数据训练模型 \n",
    "\n",
    "result = rfc.score(xtest,ytest)    #导入测试集，rfc的接口score计算的是模型准确率accuracy\n",
    "result"
   ]
  },
  {
   "cell_type": "code",
   "execution_count": 11,
   "id": "2b4f33ed",
   "metadata": {},
   "outputs": [
    {
     "data": {
      "text/plain": [
       "0.8119861619861619"
      ]
     },
     "execution_count": 11,
     "metadata": {},
     "output_type": "execute_result"
    }
   ],
   "source": [
    "roc_auc_score(ytest, rfc.predict_proba(xtest)[:,1]) "
   ]
  },
  {
   "cell_type": "code",
   "execution_count": 12,
   "id": "0391bb7b",
   "metadata": {},
   "outputs": [
    {
     "name": "stdout",
     "output_type": "stream",
     "text": [
      "各feature的重要性：[4.10665683e-02 1.13699888e-01 1.55137595e-01 5.65346688e-02\n",
      " 6.64785470e-02 5.06664075e-02 4.35483979e-02 0.00000000e+00\n",
      " 4.21475709e-02 3.44138448e-02 8.31737400e-02 2.70506486e-05\n",
      " 0.00000000e+00 4.04164794e-02 1.25087902e-01 3.61787581e-02\n",
      " 3.79016334e-02 4.01900317e-02 3.33309170e-02]\n"
     ]
    }
   ],
   "source": [
    "print ('各feature的重要性：%s' % rfc.feature_importances_)"
   ]
  },
  {
   "cell_type": "code",
   "execution_count": 13,
   "id": "24efb48b",
   "metadata": {},
   "outputs": [
    {
     "name": "stdout",
     "output_type": "stream",
     "text": [
      "Feature ranking:\n",
      " 1) 平均坡度                           0.155138\n",
      " 2) 雨季降雨量均值                        0.125088\n",
      " 3) 相对高差                           0.113700\n",
      " 4) 四级道路密度                         0.083174\n",
      " 5) clay                           0.066479\n",
      " 6) ndvi                           0.056535\n",
      " 7) sand                           0.050666\n",
      " 8) silt                           0.043548\n",
      " 9) 二级道路密度                         0.042148\n",
      "10) 流域面积                           0.041067\n",
      "11) 断裂带密度                          0.040416\n",
      "12) 大暴雨数量                          0.040190\n",
      "13) 特大暴雨数量                         0.037902\n",
      "14) 暴雨数量                           0.036179\n",
      "15) 三级道路密度                         0.034414\n",
      "16) 大雨数量                           0.033331\n",
      "17) 高速公路密度                         0.000027\n",
      "18) 一级道路密度                         0.000000\n",
      "19) 铁路密度                           0.000000\n"
     ]
    },
    {
     "data": {
      "image/png": "[encoded data removed]",
      "text/plain": [
       "<Figure size 432x288 with 1 Axes>"
      ]
     },
     "metadata": {
      "needs_background": "light"
     },
     "output_type": "display_data"
    }
   ],
   "source": [
    "importances = rfc.feature_importances_\n",
    "std = np.std([tree.feature_importances_ for tree in rfc.estimators_], axis=0)\n",
    "indices = np.argsort(importances)[::-1]# Print the feature ranking\n",
    "print(\"Feature ranking:\")\n",
    "for f in range(min(20,xtrain.shape[1])):    \n",
    "    print(\"%2d) %-*s %f\" % (f + 1, 30, xtrain.columns[indices[f]], importances[indices[f]]))# Plot the feature importances of the forest\n",
    "plt.figure()\n",
    "plt.title(\"Feature importances\")\n",
    "plt.bar(range(xtrain.shape[1]), importances[indices],  color=\"r\", yerr=std[indices], align=\"center\")\n",
    "plt.xticks(range(xtrain.shape[1]), indices)\n",
    "plt.xlim([-1, xtrain.shape[1]])\n",
    "plt.show()"
   ]
  },
  {
   "cell_type": "code",
   "execution_count": 14,
   "id": "6a9d33a4",
   "metadata": {},
   "outputs": [
    {
     "data": {
      "image/png": "[encoded data removed]",
      "text/plain": [
       "<Figure size 432x288 with 1 Axes>"
      ]
     },
     "metadata": {
      "needs_background": "light"
     },
     "output_type": "display_data"
    }
   ],
   "source": [
    "predictions_validation = rfc.predict_proba(xtest)[:,1]\n",
    "fpr, tpr, _ = roc_curve(ytest, predictions_validation)\n",
    "roc_auc = auc(fpr, tpr)\n",
    "plt.title('ROC Validation')\n",
    "plt.plot(fpr, tpr, 'b', label='AUC = %0.2f' % roc_auc)\n",
    "plt.legend(loc='lower right')\n",
    "plt.plot([0, 1], [0, 1], 'r--')\n",
    "plt.xlim([0, 1])\n",
    "plt.ylim([0, 1])\n",
    "plt.ylabel('True Positive Rate')\n",
    "plt.xlabel('False Positive Rate')\n",
    "plt.show()"
   ]
  },
  {
   "cell_type": "code",
   "execution_count": 15,
   "id": "befaa732",
   "metadata": {},
   "outputs": [
    {
     "name": "stdout",
     "output_type": "stream",
     "text": [
      "0.7036331096196867\n",
      "0.7743624161073825\n"
     ]
    }
   ],
   "source": [
    "clf = DecisionTreeClassifier(max_depth=None, min_samples_split=2,random_state=0)\n",
    "scores = cross_val_score(clf, xtrain, ytrain)\n",
    "print(scores.mean())                             \n",
    "\n",
    "clf2 = RandomForestClassifier(n_estimators=10, max_depth=None,min_samples_split=2, random_state=0)\n",
    "scores = cross_val_score(clf2, xtrain, ytrain)\n",
    "print(scores.mean())                             "
   ]
  },
  {
   "cell_type": "code",
   "execution_count": 16,
   "id": "bddd35d5",
   "metadata": {},
   "outputs": [
    {
     "data": {
      "text/plain": [
       "<bound method BaseEstimator.get_params of RandomForestClassifier()>"
      ]
     },
     "execution_count": 16,
     "metadata": {},
     "output_type": "execute_result"
    }
   ],
   "source": [
    "rfc.get_params"
   ]
  },
  {
   "cell_type": "code",
   "execution_count": 17,
   "id": "6112f907",
   "metadata": {},
   "outputs": [
    {
     "name": "stdout",
     "output_type": "stream",
     "text": [
      "{'n_estimators': 75} 0.822484610123119\n"
     ]
    }
   ],
   "source": [
    "param_test1 = {'n_estimators': range(25,500,25)}#25-500进行该参数调参，步长为25\n",
    "gsearch1 = GridSearchCV(estimator = RandomForestClassifier(min_samples_split=100, \n",
    "                                                           min_samples_leaf=20,\n",
    "                                                           max_depth=8, random_state=10), \n",
    "                        param_grid = param_test1, \n",
    "                        scoring='roc_auc', \n",
    "                        cv=5)\n",
    "gsearch1.fit(xtrain, ytrain)\n",
    "print(gsearch1.best_params_, gsearch1.best_score_)#打印最好的超参数和取该值的时候的ROC值\n"
   ]
  },
  {
   "cell_type": "code",
   "execution_count": 25,
   "id": "c119f591",
   "metadata": {},
   "outputs": [
    {
     "name": "stdout",
     "output_type": "stream",
     "text": [
      "{'min_samples_leaf': 10, 'min_samples_split': 60} 0.8305813953488371\n"
     ]
    }
   ],
   "source": [
    "param_test2 = {'min_samples_split':range(60, 200, 20), 'min_samples_leaf':range(10, 110, 10)}\n",
    "gsearch2 = GridSearchCV(estimator = RandomForestClassifier(n_estimators=75,\n",
    "                                                           max_depth=8, random_state=10), \n",
    "                        param_grid = param_test2, \n",
    "                        scoring='roc_auc',\n",
    "                        cv=5)\n",
    "gsearch2.fit(xtrain,ytrain)\n",
    "print(gsearch2.best_params_, gsearch2.best_score_)"
   ]
  },
  {
   "cell_type": "code",
   "execution_count": 19,
   "id": "15162a64",
   "metadata": {},
   "outputs": [
    {
     "name": "stdout",
     "output_type": "stream",
     "text": [
      "{'max_depth': 8} 0.8305813953488371\n"
     ]
    }
   ],
   "source": [
    "param_test3 = {'max_depth':range(3, 30, 1)}\n",
    "gsearch3 = GridSearchCV(estimator = RandomForestClassifier(n_estimators=75,\n",
    "                                                           min_samples_split=60, \n",
    "                                                           min_samples_leaf=10,\n",
    "                                                           random_state=10), \n",
    "                        param_grid = param_test3, \n",
    "                        scoring='roc_auc',\n",
    "                        cv=5)\n",
    "gsearch3.fit(xtrain,ytrain)\n",
    "print(gsearch3.best_params_, gsearch3.best_score_)"
   ]
  },
  {
   "cell_type": "code",
   "execution_count": 20,
   "id": "b3b7c355",
   "metadata": {},
   "outputs": [
    {
     "data": {
      "text/plain": [
       "0.7873422873422874"
      ]
     },
     "execution_count": 20,
     "metadata": {},
     "output_type": "execute_result"
    }
   ],
   "source": [
    "roc_auc_score(ytest, gsearch3.best_estimator_.predict_proba(xtest)[:,1])"
   ]
  },
  {
   "cell_type": "code",
   "execution_count": 28,
   "id": "591fd8f2",
   "metadata": {},
   "outputs": [
    {
     "data": {
      "text/plain": [
       "RandomForestClassifier(max_depth=11, min_samples_leaf=10, min_samples_split=60,\n",
       "                       n_estimators=75, random_state=10)"
      ]
     },
     "execution_count": 28,
     "metadata": {},
     "output_type": "execute_result"
    }
   ],
   "source": [
    "gsearch3.best_estimator_"
   ]
  },
  {
   "cell_type": "code",
   "execution_count": 26,
   "id": "6a52d942",
   "metadata": {},
   "outputs": [
    {
     "name": "stdout",
     "output_type": "stream",
     "text": [
      "{'class_weight': 'balanced', 'criterion': 'entropy'} 0.8342600034199726\n"
     ]
    }
   ],
   "source": [
    "param_test4 = {'criterion':['gini', 'entropy'], 'class_weight':[None, 'balanced']}\n",
    "gsearch4 = GridSearchCV(estimator = RandomForestClassifier(n_estimators=75,\n",
    "                                                           max_depth=8, \n",
    "                                                           min_samples_split=60, \n",
    "                                                           min_samples_leaf=10,\n",
    "                                                           random_state=10), \n",
    "                        param_grid = param_test4, \n",
    "                        scoring='roc_auc',\n",
    "                        cv=5)\n",
    "gsearch4.fit(xtrain,ytrain)\n",
    "print(gsearch4.best_params_, gsearch4.best_score_)"
   ]
  },
  {
   "cell_type": "code",
   "execution_count": 27,
   "id": "69289ae0",
   "metadata": {},
   "outputs": [
    {
     "data": {
      "text/plain": [
       "0.7926332926332926"
      ]
     },
     "execution_count": 27,
     "metadata": {},
     "output_type": "execute_result"
    }
   ],
   "source": [
    "roc_auc_score(ytest, gsearch4.best_estimator_.predict_proba(xtest)[:,1])"
   ]
  },
  {
   "cell_type": "code",
   "execution_count": 28,
   "id": "a22372cb",
   "metadata": {
    "scrolled": true
   },
   "outputs": [
    {
     "data": {
      "text/plain": [
       "RandomForestClassifier(class_weight='balanced', criterion='entropy',\n",
       "                       max_depth=8, min_samples_leaf=10, min_samples_split=60,\n",
       "                       n_estimators=75, random_state=10)"
      ]
     },
     "execution_count": 28,
     "metadata": {},
     "output_type": "execute_result"
    }
   ],
   "source": [
    "gsearch4.best_estimator_"
   ]
  },
  {
   "cell_type": "code",
   "execution_count": 29,
   "id": "9123a788",
   "metadata": {},
   "outputs": [
    {
     "data": {
      "image/png": "[encoded data removed]",
      "text/plain": [
       "<Figure size 432x288 with 1 Axes>"
      ]
     },
     "metadata": {
      "needs_background": "light"
     },
     "output_type": "display_data"
    }
   ],
   "source": [
    "predictions_validation = gsearch4.predict_proba(xtest)[:,1]\n",
    "fpr, tpr, _ = roc_curve(ytest, predictions_validation)\n",
    "roc_auc = auc(fpr, tpr)\n",
    "plt.title('ROC Validation')\n",
    "plt.plot(fpr, tpr, 'b', label='AUC = %0.2f' % roc_auc)\n",
    "plt.legend(loc='lower right')\n",
    "plt.plot([0, 1], [0, 1], 'r--')\n",
    "plt.xlim([0, 1])\n",
    "plt.ylim([0, 1])\n",
    "plt.ylabel('True Positive Rate')\n",
    "plt.xlabel('False Positive Rate')\n",
    "plt.show()"
   ]
  },
  {
   "cell_type": "code",
   "execution_count": 35,
   "id": "1ca902b9",
   "metadata": {
    "scrolled": false
   },
   "outputs": [
    {
     "ename": "AttributeError",
     "evalue": "'GridSearchCV' object has no attribute 'feature_importances_'",
     "output_type": "error",
     "traceback": [
      "\u001b[1;31m---------------------------------------------------------------------------\u001b[0m",
      "\u001b[1;31mAttributeError\u001b[0m                            Traceback (most recent call last)",
      "Input \u001b[1;32mIn [35]\u001b[0m, in \u001b[0;36m<cell line: 1>\u001b[1;34m()\u001b[0m\n\u001b[1;32m----> 1\u001b[0m \u001b[38;5;28mprint\u001b[39m (\u001b[38;5;124m'\u001b[39m\u001b[38;5;124m各feature的重要性：\u001b[39m\u001b[38;5;132;01m%s\u001b[39;00m\u001b[38;5;124m'\u001b[39m \u001b[38;5;241m%\u001b[39m \u001b[43mgsearch4\u001b[49m\u001b[38;5;241;43m.\u001b[39;49m\u001b[43mfeature_importances_\u001b[49m)\n",
      "\u001b[1;31mAttributeError\u001b[0m: 'GridSearchCV' object has no attribute 'feature_importances_'"
     ]
    }
   ],
   "source": [
    "print ('各feature的重要性：%s' % gsearch4.feature_importances_)"
   ]
  },
  {
   "cell_type": "code",
   "execution_count": null,
   "id": "06e55738",
   "metadata": {},
   "outputs": [],
   "source": []
  }
 ],
 "metadata": {
  "kernelspec": {
   "display_name": "Python 3 (ipykernel)",
   "language": "python",
   "name": "python3"
  },
  "language_info": {
   "codemirror_mode": {
    "name": "ipython",
    "version": 3
   },
   "file_extension": ".py",
   "mimetype": "text/x-python",
   "name": "python",
   "nbconvert_exporter": "python",
   "pygments_lexer": "ipython3",
   "version": "3.9.7"
  }
 },
 "nbformat": 4,
 "nbformat_minor": 5
}
