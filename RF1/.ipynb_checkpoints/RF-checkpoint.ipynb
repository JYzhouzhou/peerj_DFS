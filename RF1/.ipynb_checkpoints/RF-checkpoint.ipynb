{
 "cells": [
  {
   "cell_type": "markdown",
   "id": "b053e6a8",
   "metadata": {},
   "source": [
    "# 1.引入包"
   ]
  },
  {
   "cell_type": "code",
   "execution_count": 2,
   "id": "283115a3",
   "metadata": {},
   "outputs": [],
   "source": [
    "import numpy as np\n",
    "import scipy\n",
    "import pandas as pd\n",
    "from sklearn.ensemble import RandomForestClassifier\n",
    "from sklearn.tree import DecisionTreeClassifier\n",
    "\n",
    "from sklearn.model_selection import train_test_split, cross_val_score, GridSearchCV\n",
    "from sklearn.metrics import roc_curve, auc, roc_auc_score\n",
    "\n",
    "import matplotlib.pyplot as plt\n",
    "\n",
    "from imblearn.over_sampling import SMOTE\n",
    "from collections import Counter"
   ]
  },
  {
   "cell_type": "markdown",
   "id": "e417a171",
   "metadata": {},
   "source": [
    "# 2.读取文件"
   ]
  },
  {
   "cell_type": "code",
   "execution_count": 3,
   "id": "98e69c49",
   "metadata": {},
   "outputs": [
    {
     "data": {
      "text/html": [
       "<div>\n",
       "<style scoped>\n",
       "    .dataframe tbody tr th:only-of-type {\n",
       "        vertical-align: middle;\n",
       "    }\n",
       "\n",
       "    .dataframe tbody tr th {\n",
       "        vertical-align: top;\n",
       "    }\n",
       "\n",
       "    .dataframe thead th {\n",
       "        text-align: right;\n",
       "    }\n",
       "</style>\n",
       "<table border=\"1\" class=\"dataframe\">\n",
       "  <thead>\n",
       "    <tr style=\"text-align: right;\">\n",
       "      <th></th>\n",
       "      <th>流域面积</th>\n",
       "      <th>相对高差</th>\n",
       "      <th>平均坡度</th>\n",
       "      <th>乡县密度</th>\n",
       "      <th>雨季降雨量均值</th>\n",
       "      <th>大暴雨数量</th>\n",
       "      <th>暴雨数量</th>\n",
       "      <th>大雨数量</th>\n",
       "      <th>sand</th>\n",
       "      <th>silt</th>\n",
       "      <th>clay</th>\n",
       "      <th>LUCC</th>\n",
       "      <th>NDVI</th>\n",
       "      <th>断裂带密度</th>\n",
       "      <th>发生</th>\n",
       "    </tr>\n",
       "  </thead>\n",
       "  <tbody>\n",
       "    <tr>\n",
       "      <th>0</th>\n",
       "      <td>0.567935</td>\n",
       "      <td>277</td>\n",
       "      <td>27.903000</td>\n",
       "      <td>0.0</td>\n",
       "      <td>2.82591</td>\n",
       "      <td>64.000000</td>\n",
       "      <td>28.000000</td>\n",
       "      <td>10.000000</td>\n",
       "      <td>80.0</td>\n",
       "      <td>12.0</td>\n",
       "      <td>8.0</td>\n",
       "      <td>30</td>\n",
       "      <td>0.060392</td>\n",
       "      <td>0.012694</td>\n",
       "      <td>0</td>\n",
       "    </tr>\n",
       "    <tr>\n",
       "      <th>1</th>\n",
       "      <td>57.844101</td>\n",
       "      <td>51</td>\n",
       "      <td>10.649400</td>\n",
       "      <td>0.0</td>\n",
       "      <td>2.93229</td>\n",
       "      <td>77.470596</td>\n",
       "      <td>33.447601</td>\n",
       "      <td>12.433200</td>\n",
       "      <td>80.0</td>\n",
       "      <td>12.0</td>\n",
       "      <td>8.0</td>\n",
       "      <td>100</td>\n",
       "      <td>0.006549</td>\n",
       "      <td>0.000054</td>\n",
       "      <td>0</td>\n",
       "    </tr>\n",
       "    <tr>\n",
       "      <th>2</th>\n",
       "      <td>0.801935</td>\n",
       "      <td>155</td>\n",
       "      <td>25.506001</td>\n",
       "      <td>0.0</td>\n",
       "      <td>2.98262</td>\n",
       "      <td>80.824898</td>\n",
       "      <td>36.961800</td>\n",
       "      <td>16.813499</td>\n",
       "      <td>80.0</td>\n",
       "      <td>12.0</td>\n",
       "      <td>8.0</td>\n",
       "      <td>100</td>\n",
       "      <td>-0.030545</td>\n",
       "      <td>0.006128</td>\n",
       "      <td>0</td>\n",
       "    </tr>\n",
       "    <tr>\n",
       "      <th>3</th>\n",
       "      <td>98.233101</td>\n",
       "      <td>26</td>\n",
       "      <td>16.706400</td>\n",
       "      <td>0.0</td>\n",
       "      <td>3.41775</td>\n",
       "      <td>97.000000</td>\n",
       "      <td>44.000000</td>\n",
       "      <td>23.000000</td>\n",
       "      <td>80.0</td>\n",
       "      <td>12.0</td>\n",
       "      <td>8.0</td>\n",
       "      <td>20</td>\n",
       "      <td>0.009150</td>\n",
       "      <td>0.000085</td>\n",
       "      <td>0</td>\n",
       "    </tr>\n",
       "    <tr>\n",
       "      <th>4</th>\n",
       "      <td>2.046280</td>\n",
       "      <td>1298</td>\n",
       "      <td>42.111301</td>\n",
       "      <td>0.0</td>\n",
       "      <td>3.25551</td>\n",
       "      <td>80.913902</td>\n",
       "      <td>37.355202</td>\n",
       "      <td>18.458700</td>\n",
       "      <td>80.0</td>\n",
       "      <td>12.0</td>\n",
       "      <td>8.0</td>\n",
       "      <td>100</td>\n",
       "      <td>-0.167723</td>\n",
       "      <td>0.034815</td>\n",
       "      <td>0</td>\n",
       "    </tr>\n",
       "  </tbody>\n",
       "</table>\n",
       "</div>"
      ],
      "text/plain": [
       "        流域面积  相对高差       平均坡度  乡县密度  雨季降雨量均值      大暴雨数量       暴雨数量       大雨数量  \\\n",
       "0   0.567935   277  27.903000   0.0  2.82591  64.000000  28.000000  10.000000   \n",
       "1  57.844101    51  10.649400   0.0  2.93229  77.470596  33.447601  12.433200   \n",
       "2   0.801935   155  25.506001   0.0  2.98262  80.824898  36.961800  16.813499   \n",
       "3  98.233101    26  16.706400   0.0  3.41775  97.000000  44.000000  23.000000   \n",
       "4   2.046280  1298  42.111301   0.0  3.25551  80.913902  37.355202  18.458700   \n",
       "\n",
       "   sand  silt  clay  LUCC      NDVI     断裂带密度  发生  \n",
       "0  80.0  12.0   8.0    30  0.060392  0.012694   0  \n",
       "1  80.0  12.0   8.0   100  0.006549  0.000054   0  \n",
       "2  80.0  12.0   8.0   100 -0.030545  0.006128   0  \n",
       "3  80.0  12.0   8.0    20  0.009150  0.000085   0  \n",
       "4  80.0  12.0   8.0   100 -0.167723  0.034815   0  "
      ]
     },
     "execution_count": 3,
     "metadata": {},
     "output_type": "execute_result"
    }
   ],
   "source": [
    "df=pd.read_csv('C:\\\\Users\\\\zhouzhou\\\\Desktop\\\\RF1\\\\data.csv',encoding='utf-8')\n",
    "df.head()"
   ]
  },
  {
   "cell_type": "code",
   "execution_count": 4,
   "id": "6ca37789",
   "metadata": {},
   "outputs": [
    {
     "data": {
      "text/plain": [
       "0    924\n",
       "1    146\n",
       "Name: 发生, dtype: int64"
      ]
     },
     "execution_count": 4,
     "metadata": {},
     "output_type": "execute_result"
    }
   ],
   "source": [
    "df.发生.value_counts()#标签数量：发生：未发生=924：146"
   ]
  },
  {
   "cell_type": "code",
   "execution_count": 5,
   "id": "984d0086",
   "metadata": {},
   "outputs": [
    {
     "data": {
      "text/html": [
       "<div>\n",
       "<style scoped>\n",
       "    .dataframe tbody tr th:only-of-type {\n",
       "        vertical-align: middle;\n",
       "    }\n",
       "\n",
       "    .dataframe tbody tr th {\n",
       "        vertical-align: top;\n",
       "    }\n",
       "\n",
       "    .dataframe thead th {\n",
       "        text-align: right;\n",
       "    }\n",
       "</style>\n",
       "<table border=\"1\" class=\"dataframe\">\n",
       "  <thead>\n",
       "    <tr style=\"text-align: right;\">\n",
       "      <th></th>\n",
       "      <th>流域面积</th>\n",
       "      <th>相对高差</th>\n",
       "      <th>平均坡度</th>\n",
       "      <th>乡县密度</th>\n",
       "      <th>雨季降雨量均值</th>\n",
       "      <th>大暴雨数量</th>\n",
       "      <th>暴雨数量</th>\n",
       "      <th>大雨数量</th>\n",
       "      <th>sand</th>\n",
       "      <th>silt</th>\n",
       "      <th>clay</th>\n",
       "      <th>LUCC</th>\n",
       "      <th>NDVI</th>\n",
       "      <th>断裂带密度</th>\n",
       "    </tr>\n",
       "  </thead>\n",
       "  <tbody>\n",
       "    <tr>\n",
       "      <th>0</th>\n",
       "      <td>0.567935</td>\n",
       "      <td>277</td>\n",
       "      <td>27.903000</td>\n",
       "      <td>0.0</td>\n",
       "      <td>2.82591</td>\n",
       "      <td>64.000000</td>\n",
       "      <td>28.000000</td>\n",
       "      <td>10.000000</td>\n",
       "      <td>80.0</td>\n",
       "      <td>12.0</td>\n",
       "      <td>8.0</td>\n",
       "      <td>30</td>\n",
       "      <td>0.060392</td>\n",
       "      <td>0.012694</td>\n",
       "    </tr>\n",
       "    <tr>\n",
       "      <th>1</th>\n",
       "      <td>57.844101</td>\n",
       "      <td>51</td>\n",
       "      <td>10.649400</td>\n",
       "      <td>0.0</td>\n",
       "      <td>2.93229</td>\n",
       "      <td>77.470596</td>\n",
       "      <td>33.447601</td>\n",
       "      <td>12.433200</td>\n",
       "      <td>80.0</td>\n",
       "      <td>12.0</td>\n",
       "      <td>8.0</td>\n",
       "      <td>100</td>\n",
       "      <td>0.006549</td>\n",
       "      <td>0.000054</td>\n",
       "    </tr>\n",
       "    <tr>\n",
       "      <th>2</th>\n",
       "      <td>0.801935</td>\n",
       "      <td>155</td>\n",
       "      <td>25.506001</td>\n",
       "      <td>0.0</td>\n",
       "      <td>2.98262</td>\n",
       "      <td>80.824898</td>\n",
       "      <td>36.961800</td>\n",
       "      <td>16.813499</td>\n",
       "      <td>80.0</td>\n",
       "      <td>12.0</td>\n",
       "      <td>8.0</td>\n",
       "      <td>100</td>\n",
       "      <td>-0.030545</td>\n",
       "      <td>0.006128</td>\n",
       "    </tr>\n",
       "    <tr>\n",
       "      <th>3</th>\n",
       "      <td>98.233101</td>\n",
       "      <td>26</td>\n",
       "      <td>16.706400</td>\n",
       "      <td>0.0</td>\n",
       "      <td>3.41775</td>\n",
       "      <td>97.000000</td>\n",
       "      <td>44.000000</td>\n",
       "      <td>23.000000</td>\n",
       "      <td>80.0</td>\n",
       "      <td>12.0</td>\n",
       "      <td>8.0</td>\n",
       "      <td>20</td>\n",
       "      <td>0.009150</td>\n",
       "      <td>0.000085</td>\n",
       "    </tr>\n",
       "    <tr>\n",
       "      <th>4</th>\n",
       "      <td>2.046280</td>\n",
       "      <td>1298</td>\n",
       "      <td>42.111301</td>\n",
       "      <td>0.0</td>\n",
       "      <td>3.25551</td>\n",
       "      <td>80.913902</td>\n",
       "      <td>37.355202</td>\n",
       "      <td>18.458700</td>\n",
       "      <td>80.0</td>\n",
       "      <td>12.0</td>\n",
       "      <td>8.0</td>\n",
       "      <td>100</td>\n",
       "      <td>-0.167723</td>\n",
       "      <td>0.034815</td>\n",
       "    </tr>\n",
       "  </tbody>\n",
       "</table>\n",
       "</div>"
      ],
      "text/plain": [
       "        流域面积  相对高差       平均坡度  乡县密度  雨季降雨量均值      大暴雨数量       暴雨数量       大雨数量  \\\n",
       "0   0.567935   277  27.903000   0.0  2.82591  64.000000  28.000000  10.000000   \n",
       "1  57.844101    51  10.649400   0.0  2.93229  77.470596  33.447601  12.433200   \n",
       "2   0.801935   155  25.506001   0.0  2.98262  80.824898  36.961800  16.813499   \n",
       "3  98.233101    26  16.706400   0.0  3.41775  97.000000  44.000000  23.000000   \n",
       "4   2.046280  1298  42.111301   0.0  3.25551  80.913902  37.355202  18.458700   \n",
       "\n",
       "   sand  silt  clay  LUCC      NDVI     断裂带密度  \n",
       "0  80.0  12.0   8.0    30  0.060392  0.012694  \n",
       "1  80.0  12.0   8.0   100  0.006549  0.000054  \n",
       "2  80.0  12.0   8.0   100 -0.030545  0.006128  \n",
       "3  80.0  12.0   8.0    20  0.009150  0.000085  \n",
       "4  80.0  12.0   8.0   100 -0.167723  0.034815  "
      ]
     },
     "execution_count": 5,
     "metadata": {},
     "output_type": "execute_result"
    }
   ],
   "source": [
    "x=df.drop('发生', axis=1) #将数据集划分为X和Y\n",
    "x.head()"
   ]
  },
  {
   "cell_type": "code",
   "execution_count": 6,
   "id": "8d98bade",
   "metadata": {},
   "outputs": [
    {
     "data": {
      "text/plain": [
       "0    0\n",
       "1    0\n",
       "2    0\n",
       "3    0\n",
       "4    0\n",
       "Name: 发生, dtype: int64"
      ]
     },
     "execution_count": 6,
     "metadata": {},
     "output_type": "execute_result"
    }
   ],
   "source": [
    "y=df.发生\n",
    "y.head()"
   ]
  },
  {
   "cell_type": "code",
   "execution_count": 7,
   "id": "a17dec38",
   "metadata": {},
   "outputs": [],
   "source": [
    "# 定义SMOTE模型，random_state相当于随机数种子的作用\n",
    "smo = SMOTE(random_state=42)\n",
    "x_smo, y_smo = smo.fit_sample(x, y)"
   ]
  },
  {
   "cell_type": "code",
   "execution_count": 8,
   "id": "397cfc73",
   "metadata": {},
   "outputs": [
    {
     "name": "stdout",
     "output_type": "stream",
     "text": [
      "Counter({0: 924, 1: 924})\n"
     ]
    }
   ],
   "source": [
    "print(Counter(y_smo))"
   ]
  },
  {
   "cell_type": "code",
   "execution_count": 13,
   "id": "67bbca8d",
   "metadata": {},
   "outputs": [
    {
     "data": {
      "text/plain": [
       "流域面积       1848\n",
       "相对高差       1848\n",
       "平均坡度       1848\n",
       "乡县密度       1848\n",
       "雨季降雨量均值    1848\n",
       "大暴雨数量      1848\n",
       "暴雨数量       1848\n",
       "大雨数量       1848\n",
       "sand       1848\n",
       "silt       1848\n",
       "clay       1848\n",
       "LUCC       1848\n",
       "NDVI       1848\n",
       "断裂带密度      1848\n",
       "dtype: int64"
      ]
     },
     "execution_count": 13,
     "metadata": {},
     "output_type": "execute_result"
    }
   ],
   "source": [
    "x_smo.count()"
   ]
  },
  {
   "cell_type": "code",
   "execution_count": 14,
   "id": "dd19a4fd",
   "metadata": {},
   "outputs": [
    {
     "data": {
      "text/plain": [
       "1848"
      ]
     },
     "execution_count": 14,
     "metadata": {},
     "output_type": "execute_result"
    }
   ],
   "source": [
    "y_smo.count()"
   ]
  },
  {
   "cell_type": "markdown",
   "id": "452d4daa",
   "metadata": {},
   "source": [
    "# 3.划分数据集\n",
    "\n",
    "总的数据集：x\n",
    "总的标签集：y\n",
    "（70%）\n",
    "训练数据集：xtrain\n",
    "训练标签集：ytrain\n",
    "（30%）\n",
    "测试数据集：xtest\n",
    "测试标签集：ytest"
   ]
  },
  {
   "cell_type": "code",
   "execution_count": 18,
   "id": "2ddb1d56",
   "metadata": {},
   "outputs": [],
   "source": [
    "\n",
    "xtrain, xtest, ytrain, ytest = train_test_split(x_smo, y_smo, test_size=0.3, random_state=5)\n",
    "#按照7：3的比例划分数据集，test占3，train占7"
   ]
  },
  {
   "cell_type": "markdown",
   "id": "ba2bc179",
   "metadata": {},
   "source": [
    "# 4.初始模型\n",
    "\n",
    "rfc\n",
    "n_estimators=100\n",
    "random_state=5\n",
    "\n",
    "(测试数据集测试)\n",
    "accuracy=0.88\n",
    "roc=0.81"
   ]
  },
  {
   "cell_type": "code",
   "execution_count": 19,
   "id": "24942f8c",
   "metadata": {
    "scrolled": true
   },
   "outputs": [
    {
     "data": {
      "text/plain": [
       "0.9099099099099099"
      ]
     },
     "execution_count": 19,
     "metadata": {},
     "output_type": "execute_result"
    }
   ],
   "source": [
    "#按照初始参数训练模型\n",
    "rfc = RandomForestClassifier(n_estimators=100, random_state=5)     #实例化 \n",
    "rfc = rfc.fit(xtrain,ytrain.astype('int'))       #用训练集数据训练模型 \n",
    "result = rfc.score(xtest,ytest.astype('int'))    #导入测试集，rfc的接口score计算的是模型准确率accuracy\n",
    "result "
   ]
  },
  {
   "cell_type": "code",
   "execution_count": 20,
   "id": "a15c1940",
   "metadata": {},
   "outputs": [
    {
     "data": {
      "text/plain": [
       "0.9671784804201987"
      ]
     },
     "execution_count": 20,
     "metadata": {},
     "output_type": "execute_result"
    }
   ],
   "source": [
    "roc_auc_score(ytest, rfc.predict_proba(xtest)[:,1])"
   ]
  },
  {
   "cell_type": "code",
   "execution_count": null,
   "id": "3b0277df",
   "metadata": {},
   "outputs": [],
   "source": [
    "roc_auc_score(ytrain, rfc.predict_proba(xtrain)[:,1])"
   ]
  },
  {
   "cell_type": "code",
   "execution_count": 21,
   "id": "d02b22c3",
   "metadata": {},
   "outputs": [
    {
     "name": "stdout",
     "output_type": "stream",
     "text": [
      "各feature的重要性：[0.08691599 0.181767   0.08018186 0.06708094 0.0701893  0.05576911\n",
      " 0.0478036  0.04431998 0.05561715 0.04920337 0.06587107 0.06458343\n",
      " 0.08003421 0.05066298]\n",
      "Feature ranking:\n",
      " 1) 相对高差                           0.181767\n",
      " 2) 流域面积                           0.086916\n",
      " 3) 平均坡度                           0.080182\n",
      " 4) NDVI                           0.080034\n",
      " 5) 雨季降雨量均值                        0.070189\n",
      " 6) 乡县密度                           0.067081\n",
      " 7) clay                           0.065871\n",
      " 8) LUCC                           0.064583\n",
      " 9) 大暴雨数量                          0.055769\n",
      "10) sand                           0.055617\n",
      "11) 断裂带密度                          0.050663\n",
      "12) silt                           0.049203\n",
      "13) 暴雨数量                           0.047804\n",
      "14) 大雨数量                           0.044320\n"
     ]
    },
    {
     "data": {
      "image/png": "[encoded data removed]",
      "text/plain": [
       "<Figure size 432x288 with 1 Axes>"
      ]
     },
     "metadata": {
      "needs_background": "light"
     },
     "output_type": "display_data"
    }
   ],
   "source": [
    "print ('各feature的重要性：%s' % rfc.feature_importances_)\n",
    "importances = rfc.feature_importances_\n",
    "std = np.std([tree.feature_importances_ for tree in rfc.estimators_], axis=0)\n",
    "indices = np.argsort(importances)[::-1]# Print the feature ranking\n",
    "print(\"Feature ranking:\")\n",
    "for f in range(min(20,xtrain.shape[1])):    \n",
    "    print(\"%2d) %-*s %f\" % (f + 1, 30, xtrain.columns[indices[f]], importances[indices[f]]))# Plot the feature importances of the forest\n",
    "plt.figure()\n",
    "plt.title(\"Feature importances\")\n",
    "plt.bar(range(xtrain.shape[1]), importances[indices],  color=\"r\", yerr=std[indices], align=\"center\")\n",
    "plt.xticks(range(xtrain.shape[1]), indices)\n",
    "plt.xlim([-1, xtrain.shape[1]])\n",
    "plt.show()"
   ]
  },
  {
   "cell_type": "code",
   "execution_count": 22,
   "id": "4068ae8b",
   "metadata": {},
   "outputs": [
    {
     "data": {
      "image/png": "[encoded data removed]",
      "text/plain": [
       "<Figure size 432x288 with 1 Axes>"
      ]
     },
     "metadata": {
      "needs_background": "light"
     },
     "output_type": "display_data"
    }
   ],
   "source": [
    "predictions_validation = rfc.predict_proba(xtest)[:,1]\n",
    "fpr, tpr, _ = roc_curve(ytest, predictions_validation)\n",
    "roc_auc = auc(fpr, tpr)\n",
    "plt.title('ROC Validation')\n",
    "plt.plot(fpr, tpr, 'b', label='AUC = %0.2f' % roc_auc)\n",
    "plt.legend(loc='lower right')\n",
    "plt.plot([0, 1], [0, 1], 'r--')\n",
    "plt.xlim([0, 1])\n",
    "plt.ylim([0, 1])\n",
    "plt.ylabel('True Positive Rate')\n",
    "plt.xlabel('False Positive Rate')\n",
    "plt.show()"
   ]
  },
  {
   "cell_type": "markdown",
   "id": "c9412945",
   "metadata": {},
   "source": [
    "# 5.调参\n",
    "\n",
    "网格搜索法搜索最优取值"
   ]
  },
  {
   "cell_type": "code",
   "execution_count": 23,
   "id": "604a931b",
   "metadata": {},
   "outputs": [
    {
     "name": "stdout",
     "output_type": "stream",
     "text": [
      "最大得分：0.9033214072748956 子树数量为：161\n"
     ]
    }
   ],
   "source": [
    "# 用学习曲线来调参才能看到数据变化的趋势。因为数据没有范围。\n",
    "#先看n_estimators大致的范围\n",
    "score_lt = []\n",
    "\n",
    "for i in range(0,200,10):\n",
    "    rfc = RandomForestClassifier(n_estimators=i+1,\n",
    "                                 n_jobs=-1,\n",
    "                                random_state=5)\n",
    "    score = cross_val_score(rfc,xtrain,ytrain, cv=10).mean()\n",
    "    score_lt.append(score)\n",
    "score_max = max(score_lt)\n",
    "print('最大得分：{}'.format(score_max),\n",
    "      '子树数量为：{}'.format(score_lt.index(score_max)*10+1))\n",
    "\n"
   ]
  },
  {
   "cell_type": "code",
   "execution_count": 24,
   "id": "49a7c799",
   "metadata": {
    "scrolled": false
   },
   "outputs": [
    {
     "data": {
      "image/png": "[encoded data removed]",
      "text/plain": [
       "<Figure size 432x288 with 1 Axes>"
      ]
     },
     "metadata": {
      "needs_background": "light"
     },
     "output_type": "display_data"
    }
   ],
   "source": [
    "# 绘制学习曲线，可以看到200以后数据有下降的趋势\n",
    "x = np.arange(1,201,10)\n",
    "plt.subplot(111)\n",
    "plt.plot(x, score_lt, 'r-')\n",
    "plt.show()"
   ]
  },
  {
   "cell_type": "code",
   "execution_count": 25,
   "id": "345037f9",
   "metadata": {},
   "outputs": [
    {
     "name": "stdout",
     "output_type": "stream",
     "text": [
      "最大得分：0.9048717948717948 子树数量为：158\n"
     ]
    },
    {
     "data": {
      "image/png": "[encoded data removed]",
      "text/plain": [
       "<Figure size 432x288 with 1 Axes>"
      ]
     },
     "metadata": {
      "needs_background": "light"
     },
     "output_type": "display_data"
    }
   ],
   "source": [
    "score_lt1= []\n",
    "\n",
    "for i in range(150,170,1):\n",
    "    rfc = RandomForestClassifier(n_estimators=i,\n",
    "                                 n_jobs=-1,\n",
    "                                random_state=5)\n",
    "    score = cross_val_score(rfc,xtrain,ytrain, cv=10).mean()\n",
    "    score_lt1.append(score)\n",
    "score_max = max(score_lt1)\n",
    "print('最大得分：{}'.format(score_max),\n",
    "      '子树数量为：{}'.format(score_lt1.index(score_max)+150))\n",
    "\n",
    "x_size = np.arange(150,170,1)\n",
    "plt.subplot(111)\n",
    "plt.plot(x_size, score_lt1, 'r-')\n",
    "plt.show()#确定_estimators=40"
   ]
  },
  {
   "cell_type": "code",
   "execution_count": 15,
   "id": "5aef9809",
   "metadata": {},
   "outputs": [],
   "source": [
    "#同时调整多个参数运行缓慢\n",
    "#同时调整修改无法理解参数的组合，也不知道如何去修改\n",
    "\n"
   ]
  },
  {
   "cell_type": "code",
   "execution_count": 31,
   "id": "a6ab62a3",
   "metadata": {},
   "outputs": [
    {
     "name": "stdout",
     "output_type": "stream",
     "text": [
      "{'max_depth': 21} 0.9056469886702445\n"
     ]
    }
   ],
   "source": [
    "#调max_depth\n",
    "# 建立n_estimators为158的随机森林\n",
    "rfc = RandomForestClassifier(n_estimators=158, random_state=5)\n",
    "\n",
    "# 用网格搜索调整max_depth\n",
    "param_grid = {'max_depth':np.arange(1,40)}\n",
    "GS = GridSearchCV(rfc, param_grid, cv=10)\n",
    "GS.fit(xtrain, ytrain)\n",
    "\n",
    "best_param = GS.best_params_\n",
    "best_score = GS.best_score_\n",
    "print(best_param, best_score)\n"
   ]
  },
  {
   "cell_type": "code",
   "execution_count": 32,
   "id": "0f34bf18",
   "metadata": {},
   "outputs": [
    {
     "name": "stdout",
     "output_type": "stream",
     "text": [
      "{'min_samples_leaf': 1} 0.9056469886702445\n"
     ]
    }
   ],
   "source": [
    "# 用网格搜索调整min_samples_leaf\n",
    "#max_features默认最小值是sqrt（sumfeatures），最大为sumfeatures\n",
    "#'min_samples_leaf'还是取1最好，那么就直接选择为默认1（'min_samples_leaf'在不指定的情况下默认为1）即可，因为超参数范围越小，程序跑的就越快。\n",
    "param_grid = {'min_samples_leaf':np.arange(1,51,1)}\n",
    "\n",
    "rfc = RandomForestClassifier(n_estimators=158\n",
    "                            ,random_state=5\n",
    "                             ,max_depth=21)\n",
    "GS = GridSearchCV(rfc, param_grid, cv=10)\n",
    "GS.fit(xtrain,ytrain)\n",
    "best_param = GS.best_params_\n",
    "best_score = GS.best_score_\n",
    "print(best_param, best_score) "
   ]
  },
  {
   "cell_type": "code",
   "execution_count": 33,
   "id": "69fcc206",
   "metadata": {},
   "outputs": [
    {
     "name": "stdout",
     "output_type": "stream",
     "text": [
      "{'min_samples_split': 2} 0.9056469886702445\n"
     ]
    }
   ],
   "source": [
    "# 用网格搜索调整min_samples_split,最小为2\n",
    "#默认2的时候效果最好\n",
    "param_grid = {'min_samples_split':np.arange(2,51,1)}\n",
    "\n",
    "rfc = RandomForestClassifier(n_estimators=158\n",
    "                            ,random_state=5\n",
    "                            ,max_depth=21\n",
    "                            ,min_samples_leaf=1)\n",
    "GS = GridSearchCV(rfc, param_grid, cv=10)\n",
    "GS.fit(xtrain,ytrain)\n",
    "best_param = GS.best_params_\n",
    "best_score = GS.best_score_\n",
    "print(best_param, best_score) "
   ]
  },
  {
   "cell_type": "code",
   "execution_count": 34,
   "id": "5b657c44",
   "metadata": {},
   "outputs": [
    {
     "name": "stdout",
     "output_type": "stream",
     "text": [
      "{'max_features': 11} 0.9064042933810376\n"
     ]
    }
   ],
   "source": [
    "# 用网格搜索调整max_features\n",
    "#max_features默认最小值是sqrt（sumfeatures），最大为sumfeatures\n",
    "param_grid = {'max_features':np.arange(3,15)}\n",
    "\n",
    "rfc = RandomForestClassifier(n_estimators=158\n",
    "                            ,random_state=5\n",
    "                            ,max_depth=21\n",
    "                            ,min_samples_leaf=1\n",
    "                            ,min_samples_split=2)\n",
    "                           \n",
    "\n",
    "GS = GridSearchCV(rfc, param_grid, cv=10)\n",
    "GS.fit(xtrain,ytrain)\n",
    "best_param = GS.best_params_\n",
    "best_score = GS.best_score_\n",
    "print(best_param, best_score)  "
   ]
  },
  {
   "cell_type": "code",
   "execution_count": 37,
   "id": "bd53eb92",
   "metadata": {},
   "outputs": [
    {
     "name": "stdout",
     "output_type": "stream",
     "text": [
      "{'criterion': 'gini'} 0.9064042933810376\n"
     ]
    }
   ],
   "source": [
    "\n",
    "param_grid = {'criterion':['gini','entropy']}\n",
    "\n",
    "rfc = RandomForestClassifier(n_estimators=158\n",
    "                            ,random_state=5\n",
    "                             ,max_depth=21\n",
    "                            ,min_samples_leaf=1\n",
    "                            ,min_samples_split=2\n",
    "                            ,max_features=11)\n",
    "GS = GridSearchCV(rfc, param_grid, cv=10)\n",
    "GS.fit(xtrain,ytrain)\n",
    "best_param = GS.best_params_\n",
    "best_score = GS.best_score_\n",
    "print(best_param, best_score)   "
   ]
  },
  {
   "cell_type": "markdown",
   "id": "37cb278f",
   "metadata": {},
   "source": [
    "# 6.模型参数\n"
   ]
  },
  {
   "cell_type": "markdown",
   "id": "f57c18d1",
   "metadata": {},
   "source": [
    "rfc=RandomForestClassifier(n_estimators=158                    \n",
    "                           ,random_state=5\n",
    "                            ,max_depth=21\n",
    "                            ,min_samples_leaf=1\n",
    "                            ,min_samples_split=2\n",
    "                          ,max_features=11\n",
    "                          ,criterion='gini')\n",
    "score=cross_val_score(rfc,xtrain,ytrain,cv=10).mean()\n",
    "score\n",
    "rfc = rfc.fit(xtrain,ytrain)       #用训练集数据训练模型 "
   ]
  },
  {
   "cell_type": "code",
   "execution_count": 50,
   "id": "63e35f26",
   "metadata": {},
   "outputs": [
    {
     "data": {
      "text/plain": [
       "0.9099099099099099"
      ]
     },
     "execution_count": 50,
     "metadata": {},
     "output_type": "execute_result"
    }
   ],
   "source": [
    "result = rfc.score(xtest,ytest)    #导入测试集，rfc的接口score计算的是模型准确率accuracy\n",
    "result \n",
    "#0.9099099099099099\n"
   ]
  },
  {
   "cell_type": "code",
   "execution_count": 51,
   "id": "062c4a98",
   "metadata": {},
   "outputs": [
    {
     "data": {
      "text/plain": [
       "0.9689141401008893"
      ]
     },
     "execution_count": 51,
     "metadata": {},
     "output_type": "execute_result"
    }
   ],
   "source": [
    "roc_auc_score(ytest, rfc.predict_proba(xtest)[:,1])#0.9671784804201987"
   ]
  },
  {
   "cell_type": "code",
   "execution_count": 52,
   "id": "f9689d5c",
   "metadata": {
    "scrolled": true
   },
   "outputs": [
    {
     "data": {
      "image/png": "[encoded data removed]",
      "text/plain": [
       "<Figure size 432x288 with 1 Axes>"
      ]
     },
     "metadata": {
      "needs_background": "light"
     },
     "output_type": "display_data"
    }
   ],
   "source": [
    "predictions_validation = rfc.predict_proba(xtest)[:,1]\n",
    "fpr, tpr, _ = roc_curve(ytest, predictions_validation)\n",
    "roc_auc = auc(fpr, tpr)\n",
    "plt.title('ROC Validation')\n",
    "plt.plot(fpr, tpr, 'b', label='AUC = %0.2f' % roc_auc)\n",
    "plt.legend(loc='lower right')\n",
    "plt.plot([0, 1], [0, 1], 'r--')\n",
    "plt.xlim([0, 1])\n",
    "plt.ylim([0, 1])\n",
    "plt.ylabel('True Positive Rate')\n",
    "plt.xlabel('False Positive Rate')\n",
    "plt.show()"
   ]
  },
  {
   "cell_type": "code",
   "execution_count": 53,
   "id": "e00b313c",
   "metadata": {},
   "outputs": [
    {
     "name": "stdout",
     "output_type": "stream",
     "text": [
      "各feature的重要性：[0.08672794 0.27447597 0.06411699 0.07195241 0.06137902 0.04403083\n",
      " 0.03165279 0.03621289 0.05747286 0.04933455 0.04860972 0.06123958\n",
      " 0.07368601 0.03910845]\n",
      "Feature ranking:\n",
      " 1) 相对高差                           0.274476\n",
      " 2) 流域面积                           0.086728\n",
      " 3) NDVI                           0.073686\n",
      " 4) 乡县密度                           0.071952\n",
      " 5) 平均坡度                           0.064117\n",
      " 6) 雨季降雨量均值                        0.061379\n",
      " 7) LUCC                           0.061240\n",
      " 8) sand                           0.057473\n",
      " 9) silt                           0.049335\n",
      "10) clay                           0.048610\n",
      "11) 大暴雨数量                          0.044031\n",
      "12) 断裂带密度                          0.039108\n",
      "13) 大雨数量                           0.036213\n",
      "14) 暴雨数量                           0.031653\n"
     ]
    },
    {
     "data": {
      "image/png": "[encoded data removed]",
      "text/plain": [
       "<Figure size 432x288 with 1 Axes>"
      ]
     },
     "metadata": {
      "needs_background": "light"
     },
     "output_type": "display_data"
    }
   ],
   "source": [
    "print ('各feature的重要性：%s' % rfc.feature_importances_)\n",
    "importances = rfc.feature_importances_\n",
    "std = np.std([tree.feature_importances_ for tree in rfc.estimators_], axis=0)\n",
    "indices = np.argsort(importances)[::-1]# Print the feature ranking\n",
    "print(\"Feature ranking:\")\n",
    "for f in range(min(20,xtrain.shape[1])):    \n",
    "    print(\"%2d) %-*s %f\" % (f + 1, 30, xtrain.columns[indices[f]], importances[indices[f]]))# Plot the feature importances of the forest\n",
    "plt.figure()\n",
    "plt.title(\"Feature importances\")\n",
    "plt.bar(range(xtrain.shape[1]), importances[indices],  color=\"r\", yerr=std[indices], align=\"center\")\n",
    "plt.xticks(range(xtrain.shape[1]), indices)\n",
    "plt.xlim([-1, xtrain.shape[1]])\n",
    "plt.show()"
   ]
  },
  {
   "cell_type": "markdown",
   "id": "b78257d5",
   "metadata": {},
   "source": [
    "# 7.使用模型预测"
   ]
  },
  {
   "cell_type": "code",
   "execution_count": 55,
   "id": "8112f728",
   "metadata": {},
   "outputs": [],
   "source": [
    "rfc=RandomForestClassifier(n_estimators=158                    \n",
    "                           ,random_state=5\n",
    "                            ,max_depth=21\n",
    "                            ,min_samples_leaf=1\n",
    "                            ,min_samples_split=2\n",
    "                          ,max_features=11\n",
    "                          ,criterion='gini')\n",
    "score=cross_val_score(rfc,xtrain,ytrain,cv=10).mean()\n",
    "score\n",
    "rfc = rfc.fit(xtrain,ytrain)       #用训练集数据训练模型 \n",
    "y_pred =rfc.predict_proba(x_smo)"
   ]
  },
  {
   "cell_type": "code",
   "execution_count": 59,
   "id": "39fa05dc",
   "metadata": {},
   "outputs": [
    {
     "ename": "IndexError",
     "evalue": "list assignment index out of range",
     "output_type": "error",
     "traceback": [
      "\u001b[1;31m---------------------------------------------------------------------------\u001b[0m",
      "\u001b[1;31mIndexError\u001b[0m                                Traceback (most recent call last)",
      "Input \u001b[1;32mIn [59]\u001b[0m, in \u001b[0;36m<cell line: 3>\u001b[1;34m()\u001b[0m\n\u001b[0;32m      9\u001b[0m     idx\u001b[38;5;241m=\u001b[39midx\u001b[38;5;241m+\u001b[39m\u001b[38;5;241m1\u001b[39m\n\u001b[0;32m     10\u001b[0m \u001b[38;5;28;01melse\u001b[39;00m:\n\u001b[1;32m---> 11\u001b[0m     row[\u001b[38;5;241m20\u001b[39m]\u001b[38;5;241m=\u001b[39my_pred[idx]\n\u001b[0;32m     12\u001b[0m     idx\u001b[38;5;241m=\u001b[39midx\u001b[38;5;241m+\u001b[39m\u001b[38;5;241m1\u001b[39m\n\u001b[0;32m     13\u001b[0m     newdata\u001b[38;5;241m.\u001b[39mappend(row)\n",
      "\u001b[1;31mIndexError\u001b[0m: list assignment index out of range"
     ]
    }
   ],
   "source": [
    "import csv\n",
    "newdata=[]\n",
    "with open('C:\\\\Users\\\\zhouzhou\\\\Desktop\\\\RF1\\\\data.csv','r',encoding='utf-8') as f:\n",
    "    reader = csv.reader(f)\n",
    "    writer = csv.writer(f)\n",
    "    idx=-1\n",
    "    for row in reader:\n",
    "        if idx==-1:\n",
    "            idx=idx+1\n",
    "        else:\n",
    "            row[20]=y_pred[idx]\n",
    "            idx=idx+1\n",
    "            newdata.append(row)"
   ]
  },
  {
   "cell_type": "code",
   "execution_count": 60,
   "id": "d80e52b6",
   "metadata": {},
   "outputs": [
    {
     "ename": "SyntaxError",
     "evalue": "invalid syntax (3897444309.py, line 1)",
     "output_type": "error",
     "traceback": [
      "\u001b[1;36m  Input \u001b[1;32mIn [60]\u001b[1;36m\u001b[0m\n\u001b[1;33m    with open('C:\\\\Users\\\\zhouzhou\\\\Desktop\\\\RF1\\\\data.csv'','w',newline='') as f:\u001b[0m\n\u001b[1;37m                                                              ^\u001b[0m\n\u001b[1;31mSyntaxError\u001b[0m\u001b[1;31m:\u001b[0m invalid syntax\n"
     ]
    }
   ],
   "source": [
    "with open('C:\\\\Users\\\\zhouzhou\\\\Desktop\\\\RF1\\\\data.csv'','w',newline='') as f:\n",
    "    writer = csv.writer(f)\n",
    "    for row in newdata:\n",
    "        #writer.writerow(row)"
   ]
  },
  {
   "cell_type": "code",
   "execution_count": null,
   "id": "79df5e3f",
   "metadata": {},
   "outputs": [],
   "source": []
  }
 ],
 "metadata": {
  "kernelspec": {
   "display_name": "Python 3 (ipykernel)",
   "language": "python",
   "name": "python3"
  },
  "language_info": {
   "codemirror_mode": {
    "name": "ipython",
    "version": 3
   },
   "file_extension": ".py",
   "mimetype": "text/x-python",
   "name": "python",
   "nbconvert_exporter": "python",
   "pygments_lexer": "ipython3",
   "version": "3.9.7"
  }
 },
 "nbformat": 4,
 "nbformat_minor": 5
}
