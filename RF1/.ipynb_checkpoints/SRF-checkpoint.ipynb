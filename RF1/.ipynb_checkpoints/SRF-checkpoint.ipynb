{
 "cells": [
  {
   "cell_type": "markdown",
   "id": "b053e6a8",
   "metadata": {},
   "source": [
    "# 1.引入包"
   ]
  },
  {
   "cell_type": "code",
   "execution_count": 1,
   "id": "283115a3",
   "metadata": {},
   "outputs": [],
   "source": [
    "import numpy as np\n",
    "import scipy\n",
    "import pandas as pd\n",
    "from sklearn.ensemble import RandomForestClassifier\n",
    "from sklearn.tree import DecisionTreeClassifier\n",
    "\n",
    "from sklearn.model_selection import train_test_split, cross_val_score, GridSearchCV\n",
    "from sklearn.metrics import roc_curve, auc, roc_auc_score\n",
    "\n",
    "import matplotlib.pyplot as plt"
   ]
  },
  {
   "cell_type": "markdown",
   "id": "e417a171",
   "metadata": {},
   "source": [
    "# 2.读取文件"
   ]
  },
  {
   "cell_type": "code",
   "execution_count": 2,
   "id": "98e69c49",
   "metadata": {},
   "outputs": [
    {
     "data": {
      "text/html": [
       "<div>\n",
       "<style scoped>\n",
       "    .dataframe tbody tr th:only-of-type {\n",
       "        vertical-align: middle;\n",
       "    }\n",
       "\n",
       "    .dataframe tbody tr th {\n",
       "        vertical-align: top;\n",
       "    }\n",
       "\n",
       "    .dataframe thead th {\n",
       "        text-align: right;\n",
       "    }\n",
       "</style>\n",
       "<table border=\"1\" class=\"dataframe\">\n",
       "  <thead>\n",
       "    <tr style=\"text-align: right;\">\n",
       "      <th></th>\n",
       "      <th>Z流域面积</th>\n",
       "      <th>Z相对高差</th>\n",
       "      <th>Z平均坡度</th>\n",
       "      <th>Z乡县密度</th>\n",
       "      <th>Z雨季降雨量均值</th>\n",
       "      <th>Z大暴雨数量</th>\n",
       "      <th>Z暴雨数量</th>\n",
       "      <th>Z大雨数量</th>\n",
       "      <th>Zsand</th>\n",
       "      <th>Z断裂带密度</th>\n",
       "      <th>ZNDVI</th>\n",
       "      <th>ZLUCC</th>\n",
       "      <th>Zclay</th>\n",
       "      <th>Zsilt</th>\n",
       "      <th>发生</th>\n",
       "    </tr>\n",
       "  </thead>\n",
       "  <tbody>\n",
       "    <tr>\n",
       "      <th>0</th>\n",
       "      <td>-1.205240</td>\n",
       "      <td>-1.195288</td>\n",
       "      <td>0.944833</td>\n",
       "      <td>-0.592078</td>\n",
       "      <td>-3.067439</td>\n",
       "      <td>0.375097</td>\n",
       "      <td>0.171969</td>\n",
       "      <td>-1.274868</td>\n",
       "      <td>5.42426</td>\n",
       "      <td>0.048040</td>\n",
       "      <td>-3.150162</td>\n",
       "      <td>0.746401</td>\n",
       "      <td>-2.976718</td>\n",
       "      <td>-3.617511</td>\n",
       "      <td>0</td>\n",
       "    </tr>\n",
       "    <tr>\n",
       "      <th>1</th>\n",
       "      <td>0.629730</td>\n",
       "      <td>-1.467266</td>\n",
       "      <td>-1.353792</td>\n",
       "      <td>-0.592078</td>\n",
       "      <td>-2.972619</td>\n",
       "      <td>1.036427</td>\n",
       "      <td>0.610090</td>\n",
       "      <td>-0.934264</td>\n",
       "      <td>5.42426</td>\n",
       "      <td>-0.152183</td>\n",
       "      <td>-3.464679</td>\n",
       "      <td>5.961459</td>\n",
       "      <td>-2.976718</td>\n",
       "      <td>-3.617511</td>\n",
       "      <td>0</td>\n",
       "    </tr>\n",
       "    <tr>\n",
       "      <th>2</th>\n",
       "      <td>-1.197743</td>\n",
       "      <td>-1.342108</td>\n",
       "      <td>0.625491</td>\n",
       "      <td>-0.592078</td>\n",
       "      <td>-2.927759</td>\n",
       "      <td>1.201104</td>\n",
       "      <td>0.892718</td>\n",
       "      <td>-0.321103</td>\n",
       "      <td>5.42426</td>\n",
       "      <td>-0.055969</td>\n",
       "      <td>-3.681360</td>\n",
       "      <td>5.961459</td>\n",
       "      <td>-2.976718</td>\n",
       "      <td>-3.617511</td>\n",
       "      <td>0</td>\n",
       "    </tr>\n",
       "    <tr>\n",
       "      <th>3</th>\n",
       "      <td>1.923682</td>\n",
       "      <td>-1.497352</td>\n",
       "      <td>-0.546844</td>\n",
       "      <td>-0.592078</td>\n",
       "      <td>-2.539914</td>\n",
       "      <td>1.995210</td>\n",
       "      <td>1.458763</td>\n",
       "      <td>0.544894</td>\n",
       "      <td>5.42426</td>\n",
       "      <td>-0.151700</td>\n",
       "      <td>-3.449486</td>\n",
       "      <td>0.001393</td>\n",
       "      <td>-2.976718</td>\n",
       "      <td>-3.617511</td>\n",
       "      <td>0</td>\n",
       "    </tr>\n",
       "    <tr>\n",
       "      <th>4</th>\n",
       "      <td>-1.157878</td>\n",
       "      <td>0.033426</td>\n",
       "      <td>2.837746</td>\n",
       "      <td>-0.592078</td>\n",
       "      <td>-2.684523</td>\n",
       "      <td>1.205474</td>\n",
       "      <td>0.924358</td>\n",
       "      <td>-0.090805</td>\n",
       "      <td>5.42426</td>\n",
       "      <td>0.398439</td>\n",
       "      <td>-4.482672</td>\n",
       "      <td>5.961459</td>\n",
       "      <td>-2.976718</td>\n",
       "      <td>-3.617511</td>\n",
       "      <td>0</td>\n",
       "    </tr>\n",
       "  </tbody>\n",
       "</table>\n",
       "</div>"
      ],
      "text/plain": [
       "      Z流域面积     Z相对高差     Z平均坡度     Z乡县密度  Z雨季降雨量均值    Z大暴雨数量     Z暴雨数量  \\\n",
       "0 -1.205240 -1.195288  0.944833 -0.592078 -3.067439  0.375097  0.171969   \n",
       "1  0.629730 -1.467266 -1.353792 -0.592078 -2.972619  1.036427  0.610090   \n",
       "2 -1.197743 -1.342108  0.625491 -0.592078 -2.927759  1.201104  0.892718   \n",
       "3  1.923682 -1.497352 -0.546844 -0.592078 -2.539914  1.995210  1.458763   \n",
       "4 -1.157878  0.033426  2.837746 -0.592078 -2.684523  1.205474  0.924358   \n",
       "\n",
       "      Z大雨数量    Zsand    Z断裂带密度     ZNDVI     ZLUCC     Zclay     Zsilt  发生  \n",
       "0 -1.274868  5.42426  0.048040 -3.150162  0.746401 -2.976718 -3.617511   0  \n",
       "1 -0.934264  5.42426 -0.152183 -3.464679  5.961459 -2.976718 -3.617511   0  \n",
       "2 -0.321103  5.42426 -0.055969 -3.681360  5.961459 -2.976718 -3.617511   0  \n",
       "3  0.544894  5.42426 -0.151700 -3.449486  0.001393 -2.976718 -3.617511   0  \n",
       "4 -0.090805  5.42426  0.398439 -4.482672  5.961459 -2.976718 -3.617511   0  "
      ]
     },
     "execution_count": 2,
     "metadata": {},
     "output_type": "execute_result"
    }
   ],
   "source": [
    "df=pd.read_csv('C:\\\\Users\\\\zhouzhou\\\\Desktop\\\\RF1\\\\sdata.csv',encoding='utf-8')\n",
    "df.head()"
   ]
  },
  {
   "cell_type": "code",
   "execution_count": 3,
   "id": "6ca37789",
   "metadata": {},
   "outputs": [
    {
     "data": {
      "text/plain": [
       "0    924\n",
       "1    146\n",
       "Name: 发生, dtype: int64"
      ]
     },
     "execution_count": 3,
     "metadata": {},
     "output_type": "execute_result"
    }
   ],
   "source": [
    "df.发生.value_counts()#标签数量：发生：未发生=924：146"
   ]
  },
  {
   "cell_type": "code",
   "execution_count": 4,
   "id": "984d0086",
   "metadata": {},
   "outputs": [
    {
     "data": {
      "text/html": [
       "<div>\n",
       "<style scoped>\n",
       "    .dataframe tbody tr th:only-of-type {\n",
       "        vertical-align: middle;\n",
       "    }\n",
       "\n",
       "    .dataframe tbody tr th {\n",
       "        vertical-align: top;\n",
       "    }\n",
       "\n",
       "    .dataframe thead th {\n",
       "        text-align: right;\n",
       "    }\n",
       "</style>\n",
       "<table border=\"1\" class=\"dataframe\">\n",
       "  <thead>\n",
       "    <tr style=\"text-align: right;\">\n",
       "      <th></th>\n",
       "      <th>Z流域面积</th>\n",
       "      <th>Z相对高差</th>\n",
       "      <th>Z平均坡度</th>\n",
       "      <th>Z乡县密度</th>\n",
       "      <th>Z雨季降雨量均值</th>\n",
       "      <th>Z大暴雨数量</th>\n",
       "      <th>Z暴雨数量</th>\n",
       "      <th>Z大雨数量</th>\n",
       "      <th>Zsand</th>\n",
       "      <th>Z断裂带密度</th>\n",
       "      <th>ZNDVI</th>\n",
       "      <th>ZLUCC</th>\n",
       "      <th>Zclay</th>\n",
       "      <th>Zsilt</th>\n",
       "    </tr>\n",
       "  </thead>\n",
       "  <tbody>\n",
       "    <tr>\n",
       "      <th>0</th>\n",
       "      <td>-1.205240</td>\n",
       "      <td>-1.195288</td>\n",
       "      <td>0.944833</td>\n",
       "      <td>-0.592078</td>\n",
       "      <td>-3.067439</td>\n",
       "      <td>0.375097</td>\n",
       "      <td>0.171969</td>\n",
       "      <td>-1.274868</td>\n",
       "      <td>5.42426</td>\n",
       "      <td>0.048040</td>\n",
       "      <td>-3.150162</td>\n",
       "      <td>0.746401</td>\n",
       "      <td>-2.976718</td>\n",
       "      <td>-3.617511</td>\n",
       "    </tr>\n",
       "    <tr>\n",
       "      <th>1</th>\n",
       "      <td>0.629730</td>\n",
       "      <td>-1.467266</td>\n",
       "      <td>-1.353792</td>\n",
       "      <td>-0.592078</td>\n",
       "      <td>-2.972619</td>\n",
       "      <td>1.036427</td>\n",
       "      <td>0.610090</td>\n",
       "      <td>-0.934264</td>\n",
       "      <td>5.42426</td>\n",
       "      <td>-0.152183</td>\n",
       "      <td>-3.464679</td>\n",
       "      <td>5.961459</td>\n",
       "      <td>-2.976718</td>\n",
       "      <td>-3.617511</td>\n",
       "    </tr>\n",
       "    <tr>\n",
       "      <th>2</th>\n",
       "      <td>-1.197743</td>\n",
       "      <td>-1.342108</td>\n",
       "      <td>0.625491</td>\n",
       "      <td>-0.592078</td>\n",
       "      <td>-2.927759</td>\n",
       "      <td>1.201104</td>\n",
       "      <td>0.892718</td>\n",
       "      <td>-0.321103</td>\n",
       "      <td>5.42426</td>\n",
       "      <td>-0.055969</td>\n",
       "      <td>-3.681360</td>\n",
       "      <td>5.961459</td>\n",
       "      <td>-2.976718</td>\n",
       "      <td>-3.617511</td>\n",
       "    </tr>\n",
       "    <tr>\n",
       "      <th>3</th>\n",
       "      <td>1.923682</td>\n",
       "      <td>-1.497352</td>\n",
       "      <td>-0.546844</td>\n",
       "      <td>-0.592078</td>\n",
       "      <td>-2.539914</td>\n",
       "      <td>1.995210</td>\n",
       "      <td>1.458763</td>\n",
       "      <td>0.544894</td>\n",
       "      <td>5.42426</td>\n",
       "      <td>-0.151700</td>\n",
       "      <td>-3.449486</td>\n",
       "      <td>0.001393</td>\n",
       "      <td>-2.976718</td>\n",
       "      <td>-3.617511</td>\n",
       "    </tr>\n",
       "    <tr>\n",
       "      <th>4</th>\n",
       "      <td>-1.157878</td>\n",
       "      <td>0.033426</td>\n",
       "      <td>2.837746</td>\n",
       "      <td>-0.592078</td>\n",
       "      <td>-2.684523</td>\n",
       "      <td>1.205474</td>\n",
       "      <td>0.924358</td>\n",
       "      <td>-0.090805</td>\n",
       "      <td>5.42426</td>\n",
       "      <td>0.398439</td>\n",
       "      <td>-4.482672</td>\n",
       "      <td>5.961459</td>\n",
       "      <td>-2.976718</td>\n",
       "      <td>-3.617511</td>\n",
       "    </tr>\n",
       "  </tbody>\n",
       "</table>\n",
       "</div>"
      ],
      "text/plain": [
       "      Z流域面积     Z相对高差     Z平均坡度     Z乡县密度  Z雨季降雨量均值    Z大暴雨数量     Z暴雨数量  \\\n",
       "0 -1.205240 -1.195288  0.944833 -0.592078 -3.067439  0.375097  0.171969   \n",
       "1  0.629730 -1.467266 -1.353792 -0.592078 -2.972619  1.036427  0.610090   \n",
       "2 -1.197743 -1.342108  0.625491 -0.592078 -2.927759  1.201104  0.892718   \n",
       "3  1.923682 -1.497352 -0.546844 -0.592078 -2.539914  1.995210  1.458763   \n",
       "4 -1.157878  0.033426  2.837746 -0.592078 -2.684523  1.205474  0.924358   \n",
       "\n",
       "      Z大雨数量    Zsand    Z断裂带密度     ZNDVI     ZLUCC     Zclay     Zsilt  \n",
       "0 -1.274868  5.42426  0.048040 -3.150162  0.746401 -2.976718 -3.617511  \n",
       "1 -0.934264  5.42426 -0.152183 -3.464679  5.961459 -2.976718 -3.617511  \n",
       "2 -0.321103  5.42426 -0.055969 -3.681360  5.961459 -2.976718 -3.617511  \n",
       "3  0.544894  5.42426 -0.151700 -3.449486  0.001393 -2.976718 -3.617511  \n",
       "4 -0.090805  5.42426  0.398439 -4.482672  5.961459 -2.976718 -3.617511  "
      ]
     },
     "execution_count": 4,
     "metadata": {},
     "output_type": "execute_result"
    }
   ],
   "source": [
    "x=df.drop('发生', axis=1) #将数据集划分为X和Y\n",
    "x.head()"
   ]
  },
  {
   "cell_type": "code",
   "execution_count": 5,
   "id": "8d98bade",
   "metadata": {},
   "outputs": [
    {
     "data": {
      "text/plain": [
       "0    0\n",
       "1    0\n",
       "2    0\n",
       "3    0\n",
       "4    0\n",
       "Name: 发生, dtype: int64"
      ]
     },
     "execution_count": 5,
     "metadata": {},
     "output_type": "execute_result"
    }
   ],
   "source": [
    "y=df.发生\n",
    "y.head()"
   ]
  },
  {
   "cell_type": "markdown",
   "id": "452d4daa",
   "metadata": {},
   "source": [
    "# 3.划分数据集\n",
    "\n",
    "总的数据集：x\n",
    "总的标签集：y\n",
    "（70%）\n",
    "训练数据集：xtrain\n",
    "训练标签集：ytrain\n",
    "（30%）\n",
    "测试数据集：xtest\n",
    "测试标签集：ytest"
   ]
  },
  {
   "cell_type": "code",
   "execution_count": 6,
   "id": "2ddb1d56",
   "metadata": {},
   "outputs": [],
   "source": [
    "seed=5\n",
    "xtrain, xtest, ytrain, ytest = train_test_split(x, y, test_size=0.3, random_state=seed)\n",
    "#按照7：3的比例划分数据集，test占3，train占7"
   ]
  },
  {
   "cell_type": "markdown",
   "id": "ba2bc179",
   "metadata": {},
   "source": [
    "# 4.初始模型\n",
    "\n",
    "rfc\n",
    "n_estimators=100\n",
    "random_state=5\n",
    "\n",
    "(测试数据集测试)\n",
    "accuracy=0.88\n",
    "roc=0.81"
   ]
  },
  {
   "cell_type": "code",
   "execution_count": 7,
   "id": "24942f8c",
   "metadata": {},
   "outputs": [
    {
     "data": {
      "text/plain": [
       "0.8691588785046729"
      ]
     },
     "execution_count": 7,
     "metadata": {},
     "output_type": "execute_result"
    }
   ],
   "source": [
    "#按照初始参数训练模型\n",
    "rfc = RandomForestClassifier(n_estimators=100, random_state=5)     #实例化 \n",
    "rfc = rfc.fit(xtrain,ytrain)       #用训练集数据训练模型 \n",
    "result = rfc.score(xtest,ytest)    #导入测试集，rfc的接口score计算的是模型准确率accuracy\n",
    "result "
   ]
  },
  {
   "cell_type": "code",
   "execution_count": 8,
   "id": "a15c1940",
   "metadata": {},
   "outputs": [
    {
     "data": {
      "text/plain": [
       "0.7934801160607613"
      ]
     },
     "execution_count": 8,
     "metadata": {},
     "output_type": "execute_result"
    }
   ],
   "source": [
    "roc_auc_score(ytest, rfc.predict_proba(xtest)[:,1])"
   ]
  },
  {
   "cell_type": "code",
   "execution_count": 9,
   "id": "d02b22c3",
   "metadata": {},
   "outputs": [
    {
     "name": "stdout",
     "output_type": "stream",
     "text": [
      "各feature的重要性：[0.08637677 0.1315946  0.08108681 0.04012315 0.07875738 0.08274922\n",
      " 0.08862111 0.07144459 0.06698639 0.04077703 0.08704778 0.01774788\n",
      " 0.06351003 0.06317725]\n",
      "Feature ranking:\n",
      " 1) Z相对高差                          0.131595\n",
      " 2) Z暴雨数量                          0.088621\n",
      " 3) ZNDVI                          0.087048\n",
      " 4) Z流域面积                          0.086377\n",
      " 5) Z大暴雨数量                         0.082749\n",
      " 6) Z平均坡度                          0.081087\n",
      " 7) Z雨季降雨量均值                       0.078757\n",
      " 8) Z大雨数量                          0.071445\n",
      " 9) Zsand                          0.066986\n",
      "10) Zclay                          0.063510\n",
      "11) Zsilt                          0.063177\n",
      "12) Z断裂带密度                         0.040777\n",
      "13) Z乡县密度                          0.040123\n",
      "14) ZLUCC                          0.017748\n"
     ]
    },
    {
     "data": {
      "image/png": "[encoded data removed]",
      "text/plain": [
       "<Figure size 432x288 with 1 Axes>"
      ]
     },
     "metadata": {
      "needs_background": "light"
     },
     "output_type": "display_data"
    }
   ],
   "source": [
    "print ('各feature的重要性：%s' % rfc.feature_importances_)\n",
    "importances = rfc.feature_importances_\n",
    "std = np.std([tree.feature_importances_ for tree in rfc.estimators_], axis=0)\n",
    "indices = np.argsort(importances)[::-1]# Print the feature ranking\n",
    "print(\"Feature ranking:\")\n",
    "for f in range(min(20,xtrain.shape[1])):    \n",
    "    print(\"%2d) %-*s %f\" % (f + 1, 30, xtrain.columns[indices[f]], importances[indices[f]]))# Plot the feature importances of the forest\n",
    "plt.figure()\n",
    "plt.title(\"Feature importances\")\n",
    "plt.bar(range(xtrain.shape[1]), importances[indices],  color=\"r\", yerr=std[indices], align=\"center\")\n",
    "plt.xticks(range(xtrain.shape[1]), indices)\n",
    "plt.xlim([-1, xtrain.shape[1]])\n",
    "plt.show()"
   ]
  },
  {
   "cell_type": "code",
   "execution_count": 10,
   "id": "4068ae8b",
   "metadata": {},
   "outputs": [
    {
     "data": {
      "image/png": "[encoded data removed]",
      "text/plain": [
       "<Figure size 432x288 with 1 Axes>"
      ]
     },
     "metadata": {
      "needs_background": "light"
     },
     "output_type": "display_data"
    }
   ],
   "source": [
    "predictions_validation = rfc.predict_proba(xtest)[:,1]\n",
    "fpr, tpr, _ = roc_curve(ytest, predictions_validation)\n",
    "roc_auc = auc(fpr, tpr)\n",
    "plt.title('ROC Validation')\n",
    "plt.plot(fpr, tpr, 'b', label='AUC = %0.2f' % roc_auc)\n",
    "plt.legend(loc='lower right')\n",
    "plt.plot([0, 1], [0, 1], 'r--')\n",
    "plt.xlim([0, 1])\n",
    "plt.ylim([0, 1])\n",
    "plt.ylabel('True Positive Rate')\n",
    "plt.xlabel('False Positive Rate')\n",
    "plt.show()"
   ]
  },
  {
   "cell_type": "markdown",
   "id": "c9412945",
   "metadata": {},
   "source": [
    "# 5.调参\n",
    "\n",
    "网格搜索法搜索最优取值"
   ]
  },
  {
   "cell_type": "code",
   "execution_count": 11,
   "id": "604a931b",
   "metadata": {},
   "outputs": [
    {
     "name": "stdout",
     "output_type": "stream",
     "text": [
      "最大得分：0.8784684684684685 子树数量为：31\n"
     ]
    }
   ],
   "source": [
    "# 用学习曲线来调参才能看到数据变化的趋势。因为数据没有范围。\n",
    "#先看n_estimators大致的范围\n",
    "score_lt = []\n",
    "\n",
    "for i in range(0,200,10):\n",
    "    rfc = RandomForestClassifier(n_estimators=i+1,\n",
    "                                 n_jobs=-1,\n",
    "                                random_state=5)\n",
    "    score = cross_val_score(rfc,xtrain,ytrain, cv=10).mean()\n",
    "    score_lt.append(score)\n",
    "score_max = max(score_lt)\n",
    "print('最大得分：{}'.format(score_max),\n",
    "      '子树数量为：{}'.format(score_lt.index(score_max)*10+1))\n",
    "\n"
   ]
  },
  {
   "cell_type": "code",
   "execution_count": 13,
   "id": "49a7c799",
   "metadata": {
    "scrolled": false
   },
   "outputs": [
    {
     "data": {
      "image/png": "[encoded data removed]",
      "text/plain": [
       "<Figure size 432x288 with 1 Axes>"
      ]
     },
     "metadata": {
      "needs_background": "light"
     },
     "output_type": "display_data"
    }
   ],
   "source": [
    "# 绘制学习曲线，可以看到75\n",
    "x = np.arange(1,201,10)\n",
    "plt.subplot(111)\n",
    "plt.plot(x, score_lt, 'r-')\n",
    "plt.show()"
   ]
  },
  {
   "cell_type": "code",
   "execution_count": 14,
   "id": "345037f9",
   "metadata": {},
   "outputs": [
    {
     "name": "stdout",
     "output_type": "stream",
     "text": [
      "最大得分：0.8784684684684685 子树数量为：31\n"
     ]
    },
    {
     "data": {
      "image/png": "[encoded data removed]",
      "text/plain": [
       "<Figure size 432x288 with 1 Axes>"
      ]
     },
     "metadata": {
      "needs_background": "light"
     },
     "output_type": "display_data"
    }
   ],
   "source": [
    "score_lt1= []\n",
    "\n",
    "for i in range(20,40,1):\n",
    "    rfc = RandomForestClassifier(n_estimators=i,\n",
    "                                 n_jobs=-1,\n",
    "                                random_state=5)\n",
    "    score = cross_val_score(rfc,xtrain,ytrain, cv=10).mean()\n",
    "    score_lt1.append(score)\n",
    "score_max = max(score_lt1)\n",
    "print('最大得分：{}'.format(score_max),\n",
    "      '子树数量为：{}'.format(score_lt1.index(score_max)+20))\n",
    "\n",
    "x_size = np.arange(20,40,1)\n",
    "plt.subplot(111)\n",
    "plt.plot(x_size, score_lt1, 'r-')\n",
    "plt.show()#确定_estimators=91"
   ]
  },
  {
   "cell_type": "code",
   "execution_count": 15,
   "id": "5aef9809",
   "metadata": {},
   "outputs": [],
   "source": [
    "#同时调整多个参数运行缓慢\n",
    "#同时调整修改无法理解参数的组合，也不知道如何去修改\n",
    "\n"
   ]
  },
  {
   "cell_type": "code",
   "execution_count": 15,
   "id": "a6ab62a3",
   "metadata": {},
   "outputs": [
    {
     "name": "stdout",
     "output_type": "stream",
     "text": [
      "{'max_depth': 19} 0.8784684684684685\n"
     ]
    }
   ],
   "source": [
    "#调max_depth\n",
    "# 建立n_estimators为91的随机森林\n",
    "rfc = RandomForestClassifier(n_estimators=31, random_state=5)\n",
    "\n",
    "# 用网格搜索调整max_depth\n",
    "param_grid = {'max_depth':np.arange(1,40)}\n",
    "GS = GridSearchCV(rfc, param_grid, cv=10)\n",
    "GS.fit(xtrain, ytrain)\n",
    "\n",
    "best_param = GS.best_params_\n",
    "best_score = GS.best_score_\n",
    "print(best_param, best_score)#0.8784864864864865精度没有改变\n"
   ]
  },
  {
   "cell_type": "code",
   "execution_count": 16,
   "id": "0f34bf18",
   "metadata": {},
   "outputs": [
    {
     "name": "stdout",
     "output_type": "stream",
     "text": [
      "{'min_samples_leaf': 1} 0.8784684684684685\n"
     ]
    }
   ],
   "source": [
    "# 用网格搜索调整min_samples_leaf\n",
    "#max_features默认最小值是sqrt（sumfeatures），最大为sumfeatures\n",
    "#'min_samples_leaf'还是取1最好，那么就直接选择为默认1（'min_samples_leaf'在不指定的情况下默认为1）即可，因为超参数范围越小，程序跑的就越快。\n",
    "param_grid = {'min_samples_leaf':np.arange(1,51,1)}\n",
    "\n",
    "rfc = RandomForestClassifier(n_estimators=31\n",
    "                            ,random_state=5\n",
    "                             ,max_depth=19)\n",
    "GS = GridSearchCV(rfc, param_grid, cv=10)\n",
    "GS.fit(xtrain,ytrain)\n",
    "best_param = GS.best_params_\n",
    "best_score = GS.best_score_\n",
    "print(best_param, best_score) "
   ]
  },
  {
   "cell_type": "code",
   "execution_count": 18,
   "id": "69fcc206",
   "metadata": {},
   "outputs": [
    {
     "name": "stdout",
     "output_type": "stream",
     "text": [
      "{'min_samples_split': 2} 0.8784684684684685\n"
     ]
    }
   ],
   "source": [
    "# 用网格搜索调整min_samples_split,最小为2\n",
    "#默认2的时候效果最好\n",
    "param_grid = {'min_samples_split':np.arange(2,51,1)}\n",
    "\n",
    "rfc = RandomForestClassifier(n_estimators=31\n",
    "                            ,random_state=5\n",
    "                            ,max_depth=19\n",
    "                            ,min_samples_leaf=1)\n",
    "GS = GridSearchCV(rfc, param_grid, cv=10)\n",
    "GS.fit(xtrain,ytrain)\n",
    "best_param = GS.best_params_\n",
    "best_score = GS.best_score_\n",
    "print(best_param, best_score) "
   ]
  },
  {
   "cell_type": "code",
   "execution_count": 19,
   "id": "5b657c44",
   "metadata": {},
   "outputs": [
    {
     "name": "stdout",
     "output_type": "stream",
     "text": [
      "{'max_features': 6} 0.8811531531531532\n"
     ]
    }
   ],
   "source": [
    "# 用网格搜索调整max_features\n",
    "#max_features默认最小值是sqrt（sumfeatures），最大为sumfeatures\n",
    "param_grid = {'max_features':np.arange(3,15)}\n",
    "\n",
    "rfc = RandomForestClassifier(n_estimators=31\n",
    "                            ,random_state=5\n",
    "                            ,max_depth=19\n",
    "                            ,min_samples_leaf=1\n",
    "                            ,min_samples_split=2)\n",
    "                           \n",
    "\n",
    "GS = GridSearchCV(rfc, param_grid, cv=10)\n",
    "GS.fit(xtrain,ytrain)\n",
    "best_param = GS.best_params_\n",
    "best_score = GS.best_score_\n",
    "print(best_param, best_score)   #参数提升0.8784864864864865到0.8824864864864864"
   ]
  },
  {
   "cell_type": "code",
   "execution_count": 20,
   "id": "e4d5641b",
   "metadata": {},
   "outputs": [
    {
     "data": {
      "text/plain": [
       "0.7768817204301075"
      ]
     },
     "execution_count": 20,
     "metadata": {},
     "output_type": "execute_result"
    }
   ],
   "source": [
    "rfc = rfc.fit(xtrain,ytrain)       #用训练集数据训练模型 \n",
    "roc_auc_score(ytest, rfc.predict_proba(xtest)[:,1])"
   ]
  },
  {
   "cell_type": "code",
   "execution_count": 22,
   "id": "bd53eb92",
   "metadata": {},
   "outputs": [
    {
     "name": "stdout",
     "output_type": "stream",
     "text": [
      "{'criterion': 'entropy'} 0.8798198198198198\n"
     ]
    }
   ],
   "source": [
    "# 用网格搜索调整max_features\n",
    "#max_features默认最小值是sqrt（sumfeatures），最大为sumfeatures\n",
    "param_grid = {'criterion':['gini','entropy']}\n",
    "\n",
    "rfc = RandomForestClassifier(n_estimators=31\n",
    "                            ,random_state=5\n",
    ")\n",
    "GS = GridSearchCV(rfc, param_grid, cv=10)\n",
    "GS.fit(xtrain,ytrain)\n",
    "best_param = GS.best_params_\n",
    "best_score = GS.best_score_\n",
    "print(best_param, best_score)   #参数提升0.8784864864864865到0.8824864864864864"
   ]
  },
  {
   "cell_type": "code",
   "execution_count": 24,
   "id": "8f6c4ba7",
   "metadata": {},
   "outputs": [],
   "source": [
    "rfc=RandomForestClassifier(n_estimators=31                           \n",
    "                           ,random_state=5\n",
    "                            ,max_depth=19\n",
    "                            ,min_samples_leaf=1\n",
    "                            ,min_samples_split=2\n",
    "                          ,max_features=5\n",
    "                          ,criterion='entropy')\n",
    "score=cross_val_score(rfc,xtrain,ytrain,cv=10).mean()\n",
    "score\n",
    "rfc = rfc.fit(xtrain,ytrain)       #用训练集数据训练模型 "
   ]
  },
  {
   "cell_type": "code",
   "execution_count": 25,
   "id": "63e35f26",
   "metadata": {},
   "outputs": [
    {
     "data": {
      "text/plain": [
       "0.8909657320872274"
      ]
     },
     "execution_count": 25,
     "metadata": {},
     "output_type": "execute_result"
    }
   ],
   "source": [
    "result = rfc.score(xtest,ytest)    #导入测试集，rfc的接口score计算的是模型准确率accuracy\n",
    "result \n"
   ]
  },
  {
   "cell_type": "code",
   "execution_count": 26,
   "id": "062c4a98",
   "metadata": {},
   "outputs": [
    {
     "data": {
      "text/plain": [
       "0.8133640552995393"
      ]
     },
     "execution_count": 26,
     "metadata": {},
     "output_type": "execute_result"
    }
   ],
   "source": [
    "roc_auc_score(ytest, rfc.predict_proba(xtest)[:,1])"
   ]
  },
  {
   "cell_type": "code",
   "execution_count": 27,
   "id": "f9689d5c",
   "metadata": {
    "scrolled": true
   },
   "outputs": [
    {
     "data": {
      "image/png": "[encoded data removed]",
      "text/plain": [
       "<Figure size 432x288 with 1 Axes>"
      ]
     },
     "metadata": {
      "needs_background": "light"
     },
     "output_type": "display_data"
    }
   ],
   "source": [
    "predictions_validation = rfc.predict_proba(xtest)[:,1]\n",
    "fpr, tpr, _ = roc_curve(ytest, predictions_validation)\n",
    "roc_auc = auc(fpr, tpr)\n",
    "plt.title('ROC Validation')\n",
    "plt.plot(fpr, tpr, 'b', label='AUC = %0.2f' % roc_auc)\n",
    "plt.legend(loc='lower right')\n",
    "plt.plot([0, 1], [0, 1], 'r--')\n",
    "plt.xlim([0, 1])\n",
    "plt.ylim([0, 1])\n",
    "plt.ylabel('True Positive Rate')\n",
    "plt.xlabel('False Positive Rate')\n",
    "plt.show()"
   ]
  },
  {
   "cell_type": "code",
   "execution_count": null,
   "id": "e00b313c",
   "metadata": {},
   "outputs": [],
   "source": []
  }
 ],
 "metadata": {
  "kernelspec": {
   "display_name": "Python 3 (ipykernel)",
   "language": "python",
   "name": "python3"
  },
  "language_info": {
   "codemirror_mode": {
    "name": "ipython",
    "version": 3
   },
   "file_extension": ".py",
   "mimetype": "text/x-python",
   "name": "python",
   "nbconvert_exporter": "python",
   "pygments_lexer": "ipython3",
   "version": "3.9.7"
  }
 },
 "nbformat": 4,
 "nbformat_minor": 5
}
