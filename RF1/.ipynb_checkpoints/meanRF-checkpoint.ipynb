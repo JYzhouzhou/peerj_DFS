{
 "cells": [
  {
   "cell_type": "markdown",
   "id": "b053e6a8",
   "metadata": {},
   "source": [
    "# 1.引入包"
   ]
  },
  {
   "cell_type": "code",
   "execution_count": 1,
   "id": "283115a3",
   "metadata": {},
   "outputs": [],
   "source": [
    "import numpy as np\n",
    "import scipy\n",
    "import pandas as pd\n",
    "from sklearn.ensemble import RandomForestClassifier\n",
    "from sklearn.tree import DecisionTreeClassifier\n",
    "\n",
    "from sklearn.model_selection import train_test_split, cross_val_score, GridSearchCV\n",
    "from sklearn.metrics import roc_curve, auc, roc_auc_score\n",
    "\n",
    "import matplotlib.pyplot as plt"
   ]
  },
  {
   "cell_type": "markdown",
   "id": "e417a171",
   "metadata": {},
   "source": [
    "# 2.读取文件"
   ]
  },
  {
   "cell_type": "code",
   "execution_count": 2,
   "id": "98e69c49",
   "metadata": {},
   "outputs": [
    {
     "data": {
      "text/html": [
       "<div>\n",
       "<style scoped>\n",
       "    .dataframe tbody tr th:only-of-type {\n",
       "        vertical-align: middle;\n",
       "    }\n",
       "\n",
       "    .dataframe tbody tr th {\n",
       "        vertical-align: top;\n",
       "    }\n",
       "\n",
       "    .dataframe thead th {\n",
       "        text-align: right;\n",
       "    }\n",
       "</style>\n",
       "<table border=\"1\" class=\"dataframe\">\n",
       "  <thead>\n",
       "    <tr style=\"text-align: right;\">\n",
       "      <th></th>\n",
       "      <th>流域面积</th>\n",
       "      <th>相对高差</th>\n",
       "      <th>平均坡度</th>\n",
       "      <th>乡县密度</th>\n",
       "      <th>雨季降雨量均值</th>\n",
       "      <th>大暴雨数量</th>\n",
       "      <th>暴雨数量</th>\n",
       "      <th>大雨数量</th>\n",
       "      <th>sand</th>\n",
       "      <th>silt</th>\n",
       "      <th>clay</th>\n",
       "      <th>LUCC</th>\n",
       "      <th>NDVI</th>\n",
       "      <th>断裂带密度</th>\n",
       "      <th>发生</th>\n",
       "    </tr>\n",
       "  </thead>\n",
       "  <tbody>\n",
       "    <tr>\n",
       "      <th>0</th>\n",
       "      <td>0.567935</td>\n",
       "      <td>277</td>\n",
       "      <td>27.903000</td>\n",
       "      <td>0.0</td>\n",
       "      <td>2.82591</td>\n",
       "      <td>64.000000</td>\n",
       "      <td>28.000000</td>\n",
       "      <td>10.000000</td>\n",
       "      <td>80.0</td>\n",
       "      <td>12.0</td>\n",
       "      <td>8.0</td>\n",
       "      <td>30</td>\n",
       "      <td>0.060392</td>\n",
       "      <td>0.012694</td>\n",
       "      <td>0</td>\n",
       "    </tr>\n",
       "    <tr>\n",
       "      <th>1</th>\n",
       "      <td>57.844101</td>\n",
       "      <td>51</td>\n",
       "      <td>10.649400</td>\n",
       "      <td>0.0</td>\n",
       "      <td>2.93229</td>\n",
       "      <td>77.470596</td>\n",
       "      <td>33.447601</td>\n",
       "      <td>12.433200</td>\n",
       "      <td>80.0</td>\n",
       "      <td>12.0</td>\n",
       "      <td>8.0</td>\n",
       "      <td>100</td>\n",
       "      <td>0.006549</td>\n",
       "      <td>0.000054</td>\n",
       "      <td>0</td>\n",
       "    </tr>\n",
       "    <tr>\n",
       "      <th>2</th>\n",
       "      <td>0.801935</td>\n",
       "      <td>155</td>\n",
       "      <td>25.506001</td>\n",
       "      <td>0.0</td>\n",
       "      <td>2.98262</td>\n",
       "      <td>80.824898</td>\n",
       "      <td>36.961800</td>\n",
       "      <td>16.813499</td>\n",
       "      <td>80.0</td>\n",
       "      <td>12.0</td>\n",
       "      <td>8.0</td>\n",
       "      <td>100</td>\n",
       "      <td>-0.030545</td>\n",
       "      <td>0.006128</td>\n",
       "      <td>0</td>\n",
       "    </tr>\n",
       "    <tr>\n",
       "      <th>3</th>\n",
       "      <td>98.233101</td>\n",
       "      <td>26</td>\n",
       "      <td>16.706400</td>\n",
       "      <td>0.0</td>\n",
       "      <td>3.41775</td>\n",
       "      <td>97.000000</td>\n",
       "      <td>44.000000</td>\n",
       "      <td>23.000000</td>\n",
       "      <td>80.0</td>\n",
       "      <td>12.0</td>\n",
       "      <td>8.0</td>\n",
       "      <td>20</td>\n",
       "      <td>0.009150</td>\n",
       "      <td>0.000085</td>\n",
       "      <td>0</td>\n",
       "    </tr>\n",
       "    <tr>\n",
       "      <th>4</th>\n",
       "      <td>2.046280</td>\n",
       "      <td>1298</td>\n",
       "      <td>42.111301</td>\n",
       "      <td>0.0</td>\n",
       "      <td>3.25551</td>\n",
       "      <td>80.913902</td>\n",
       "      <td>37.355202</td>\n",
       "      <td>18.458700</td>\n",
       "      <td>80.0</td>\n",
       "      <td>12.0</td>\n",
       "      <td>8.0</td>\n",
       "      <td>100</td>\n",
       "      <td>-0.167723</td>\n",
       "      <td>0.034815</td>\n",
       "      <td>0</td>\n",
       "    </tr>\n",
       "  </tbody>\n",
       "</table>\n",
       "</div>"
      ],
      "text/plain": [
       "        流域面积  相对高差       平均坡度  乡县密度  雨季降雨量均值      大暴雨数量       暴雨数量       大雨数量  \\\n",
       "0   0.567935   277  27.903000   0.0  2.82591  64.000000  28.000000  10.000000   \n",
       "1  57.844101    51  10.649400   0.0  2.93229  77.470596  33.447601  12.433200   \n",
       "2   0.801935   155  25.506001   0.0  2.98262  80.824898  36.961800  16.813499   \n",
       "3  98.233101    26  16.706400   0.0  3.41775  97.000000  44.000000  23.000000   \n",
       "4   2.046280  1298  42.111301   0.0  3.25551  80.913902  37.355202  18.458700   \n",
       "\n",
       "   sand  silt  clay  LUCC      NDVI     断裂带密度  发生  \n",
       "0  80.0  12.0   8.0    30  0.060392  0.012694   0  \n",
       "1  80.0  12.0   8.0   100  0.006549  0.000054   0  \n",
       "2  80.0  12.0   8.0   100 -0.030545  0.006128   0  \n",
       "3  80.0  12.0   8.0    20  0.009150  0.000085   0  \n",
       "4  80.0  12.0   8.0   100 -0.167723  0.034815   0  "
      ]
     },
     "execution_count": 2,
     "metadata": {},
     "output_type": "execute_result"
    }
   ],
   "source": [
    "df=pd.read_csv('./data.csv',encoding='utf-8')\n",
    "df.head()"
   ]
  },
  {
   "cell_type": "code",
   "execution_count": 3,
   "id": "6ca37789",
   "metadata": {},
   "outputs": [
    {
     "data": {
      "text/plain": [
       "0    924\n",
       "1    146\n",
       "Name: 发生, dtype: int64"
      ]
     },
     "execution_count": 3,
     "metadata": {},
     "output_type": "execute_result"
    }
   ],
   "source": [
    "df.发生.value_counts()#标签数量：发生：未发生=924：146\n"
   ]
  },
  {
   "cell_type": "code",
   "execution_count": 4,
   "id": "984d0086",
   "metadata": {
    "scrolled": false
   },
   "outputs": [
    {
     "data": {
      "text/html": [
       "<div>\n",
       "<style scoped>\n",
       "    .dataframe tbody tr th:only-of-type {\n",
       "        vertical-align: middle;\n",
       "    }\n",
       "\n",
       "    .dataframe tbody tr th {\n",
       "        vertical-align: top;\n",
       "    }\n",
       "\n",
       "    .dataframe thead th {\n",
       "        text-align: right;\n",
       "    }\n",
       "</style>\n",
       "<table border=\"1\" class=\"dataframe\">\n",
       "  <thead>\n",
       "    <tr style=\"text-align: right;\">\n",
       "      <th></th>\n",
       "      <th>流域面积</th>\n",
       "      <th>相对高差</th>\n",
       "      <th>平均坡度</th>\n",
       "      <th>乡县密度</th>\n",
       "      <th>雨季降雨量均值</th>\n",
       "      <th>大暴雨数量</th>\n",
       "      <th>暴雨数量</th>\n",
       "      <th>大雨数量</th>\n",
       "      <th>sand</th>\n",
       "      <th>silt</th>\n",
       "      <th>clay</th>\n",
       "      <th>LUCC</th>\n",
       "      <th>NDVI</th>\n",
       "      <th>断裂带密度</th>\n",
       "    </tr>\n",
       "  </thead>\n",
       "  <tbody>\n",
       "    <tr>\n",
       "      <th>31</th>\n",
       "      <td>41.179501</td>\n",
       "      <td>2506</td>\n",
       "      <td>32.011002</td>\n",
       "      <td>0.0</td>\n",
       "      <td>4.43869</td>\n",
       "      <td>84.847801</td>\n",
       "      <td>39.857800</td>\n",
       "      <td>20.126801</td>\n",
       "      <td>42.923100</td>\n",
       "      <td>33.615398</td>\n",
       "      <td>23.461500</td>\n",
       "      <td>20</td>\n",
       "      <td>0.639586</td>\n",
       "      <td>0.010262</td>\n",
       "    </tr>\n",
       "    <tr>\n",
       "      <th>34</th>\n",
       "      <td>46.491299</td>\n",
       "      <td>2421</td>\n",
       "      <td>29.217699</td>\n",
       "      <td>0.0</td>\n",
       "      <td>4.37847</td>\n",
       "      <td>82.187302</td>\n",
       "      <td>37.187302</td>\n",
       "      <td>17.788900</td>\n",
       "      <td>41.608700</td>\n",
       "      <td>34.500000</td>\n",
       "      <td>23.891300</td>\n",
       "      <td>20</td>\n",
       "      <td>0.627393</td>\n",
       "      <td>0.003281</td>\n",
       "    </tr>\n",
       "    <tr>\n",
       "      <th>39</th>\n",
       "      <td>174.046997</td>\n",
       "      <td>2849</td>\n",
       "      <td>29.644400</td>\n",
       "      <td>0.0</td>\n",
       "      <td>4.18442</td>\n",
       "      <td>81.204399</td>\n",
       "      <td>35.860199</td>\n",
       "      <td>17.401800</td>\n",
       "      <td>46.049400</td>\n",
       "      <td>32.771599</td>\n",
       "      <td>21.179001</td>\n",
       "      <td>20</td>\n",
       "      <td>0.589562</td>\n",
       "      <td>0.000899</td>\n",
       "    </tr>\n",
       "    <tr>\n",
       "      <th>41</th>\n",
       "      <td>64.358704</td>\n",
       "      <td>3002</td>\n",
       "      <td>30.145399</td>\n",
       "      <td>0.0</td>\n",
       "      <td>4.16103</td>\n",
       "      <td>76.000000</td>\n",
       "      <td>30.500000</td>\n",
       "      <td>14.500000</td>\n",
       "      <td>45.661301</td>\n",
       "      <td>32.951599</td>\n",
       "      <td>21.387100</td>\n",
       "      <td>20</td>\n",
       "      <td>0.559771</td>\n",
       "      <td>0.005073</td>\n",
       "    </tr>\n",
       "    <tr>\n",
       "      <th>42</th>\n",
       "      <td>29.653799</td>\n",
       "      <td>2172</td>\n",
       "      <td>34.928299</td>\n",
       "      <td>0.0</td>\n",
       "      <td>4.95227</td>\n",
       "      <td>80.924202</td>\n",
       "      <td>39.962101</td>\n",
       "      <td>25.971600</td>\n",
       "      <td>36.862099</td>\n",
       "      <td>38.103401</td>\n",
       "      <td>25.034500</td>\n",
       "      <td>20</td>\n",
       "      <td>0.672118</td>\n",
       "      <td>0.011409</td>\n",
       "    </tr>\n",
       "  </tbody>\n",
       "</table>\n",
       "</div>"
      ],
      "text/plain": [
       "          流域面积  相对高差       平均坡度  乡县密度  雨季降雨量均值      大暴雨数量       暴雨数量  \\\n",
       "31   41.179501  2506  32.011002   0.0  4.43869  84.847801  39.857800   \n",
       "34   46.491299  2421  29.217699   0.0  4.37847  82.187302  37.187302   \n",
       "39  174.046997  2849  29.644400   0.0  4.18442  81.204399  35.860199   \n",
       "41   64.358704  3002  30.145399   0.0  4.16103  76.000000  30.500000   \n",
       "42   29.653799  2172  34.928299   0.0  4.95227  80.924202  39.962101   \n",
       "\n",
       "         大雨数量       sand       silt       clay  LUCC      NDVI     断裂带密度  \n",
       "31  20.126801  42.923100  33.615398  23.461500    20  0.639586  0.010262  \n",
       "34  17.788900  41.608700  34.500000  23.891300    20  0.627393  0.003281  \n",
       "39  17.401800  46.049400  32.771599  21.179001    20  0.589562  0.000899  \n",
       "41  14.500000  45.661301  32.951599  21.387100    20  0.559771  0.005073  \n",
       "42  25.971600  36.862099  38.103401  25.034500    20  0.672118  0.011409  "
      ]
     },
     "execution_count": 4,
     "metadata": {},
     "output_type": "execute_result"
    }
   ],
   "source": [
    "tsamples=df[df[\"发生\"]>0]\n",
    "\n",
    "tlabel=tsamples.发生\n",
    "truesamples=tsamples.drop('发生', axis=1)\n",
    "\n",
    "\n",
    "fsamples=df[df[\"发生\"]<1]\n",
    "sfSamples=fsamples.sample(n=146, random_state=0)\n",
    "flabel=sfSamples.发生\n",
    "falsesamples=sfSamples.drop('发生', axis=1)\n",
    "\n",
    "x=pd.concat([truesamples,falsesamples])\n",
    "x.head()\n",
    "\n",
    "#x=df.drop('发生', axis=1) #将数据集划分为X和Y\n",
    "#x.head()"
   ]
  },
  {
   "cell_type": "code",
   "execution_count": 5,
   "id": "8d98bade",
   "metadata": {},
   "outputs": [
    {
     "data": {
      "text/plain": [
       "31    1\n",
       "34    1\n",
       "39    1\n",
       "41    1\n",
       "42    1\n",
       "Name: 发生, dtype: int64"
      ]
     },
     "execution_count": 5,
     "metadata": {},
     "output_type": "execute_result"
    }
   ],
   "source": [
    "y=pd.concat([tlabel,flabel])\n",
    "y.head()"
   ]
  },
  {
   "cell_type": "markdown",
   "id": "452d4daa",
   "metadata": {},
   "source": [
    "# 3.划分数据集\n",
    "\n",
    "总的数据集：x\n",
    "总的标签集：y\n",
    "（70%）\n",
    "训练数据集：xtrain\n",
    "训练标签集：ytrain\n",
    "（30%）\n",
    "测试数据集：xtest\n",
    "测试标签集：ytest"
   ]
  },
  {
   "cell_type": "code",
   "execution_count": 6,
   "id": "2ddb1d56",
   "metadata": {},
   "outputs": [],
   "source": [
    "seed=5\n",
    "xtrain, xtest, ytrain, ytest = train_test_split(x, y, test_size=0.3, random_state=seed)\n",
    "#按照7：3的比例划分数据集，test占3，train占7"
   ]
  },
  {
   "cell_type": "markdown",
   "id": "ba2bc179",
   "metadata": {},
   "source": [
    "# 4.初始模型\n",
    "\n",
    "rfc\n",
    "n_estimators=100\n",
    "random_state=5\n",
    "\n",
    "(测试数据集测试)\n",
    "accuracy=0.88\n",
    "roc=0.81"
   ]
  },
  {
   "cell_type": "code",
   "execution_count": 7,
   "id": "24942f8c",
   "metadata": {},
   "outputs": [
    {
     "data": {
      "text/plain": [
       "0.7840909090909091"
      ]
     },
     "execution_count": 7,
     "metadata": {},
     "output_type": "execute_result"
    }
   ],
   "source": [
    "#按照初始参数训练模型\n",
    "rfc = RandomForestClassifier(n_estimators=100, random_state=5)     #实例化 \n",
    "rfc = rfc.fit(xtrain,ytrain)       #用训练集数据训练模型 \n",
    "result = rfc.score(xtest,ytest)    #导入测试集，rfc的接口score计算的是模型准确率accuracy\n",
    "result "
   ]
  },
  {
   "cell_type": "code",
   "execution_count": 8,
   "id": "a15c1940",
   "metadata": {},
   "outputs": [
    {
     "data": {
      "text/plain": [
       "0.8827639751552795"
      ]
     },
     "execution_count": 8,
     "metadata": {},
     "output_type": "execute_result"
    }
   ],
   "source": [
    "roc_auc_score(ytest, rfc.predict_proba(xtest)[:,1])"
   ]
  },
  {
   "cell_type": "code",
   "execution_count": 9,
   "id": "d02b22c3",
   "metadata": {},
   "outputs": [
    {
     "name": "stdout",
     "output_type": "stream",
     "text": [
      "各feature的重要性：[0.06228562 0.1985136  0.07422328 0.05591906 0.05416456 0.06522936\n",
      " 0.07700401 0.05973299 0.07046425 0.06872985 0.09564438 0.01236454\n",
      " 0.07719104 0.02853346]\n",
      "Feature ranking:\n",
      " 1) 相对高差                           0.198514\n",
      " 2) clay                           0.095644\n",
      " 3) NDVI                           0.077191\n",
      " 4) 暴雨数量                           0.077004\n",
      " 5) 平均坡度                           0.074223\n",
      " 6) sand                           0.070464\n",
      " 7) silt                           0.068730\n",
      " 8) 大暴雨数量                          0.065229\n",
      " 9) 流域面积                           0.062286\n",
      "10) 大雨数量                           0.059733\n",
      "11) 乡县密度                           0.055919\n",
      "12) 雨季降雨量均值                        0.054165\n",
      "13) 断裂带密度                          0.028533\n",
      "14) LUCC                           0.012365\n"
     ]
    },
    {
     "data": {
      "image/png": "[encoded data removed]",
      "text/plain": [
       "<Figure size 432x288 with 1 Axes>"
      ]
     },
     "metadata": {
      "needs_background": "light"
     },
     "output_type": "display_data"
    }
   ],
   "source": [
    "print ('各feature的重要性：%s' % rfc.feature_importances_)\n",
    "importances = rfc.feature_importances_\n",
    "std = np.std([tree.feature_importances_ for tree in rfc.estimators_], axis=0)\n",
    "indices = np.argsort(importances)[::-1]# Print the feature ranking\n",
    "print(\"Feature ranking:\")\n",
    "for f in range(min(20,xtrain.shape[1])):    \n",
    "    print(\"%2d) %-*s %f\" % (f + 1, 30, xtrain.columns[indices[f]], importances[indices[f]]))# Plot the feature importances of the forest\n",
    "plt.figure()\n",
    "plt.title(\"Feature importances\")\n",
    "plt.bar(range(xtrain.shape[1]), importances[indices],  color=\"r\", yerr=std[indices], align=\"center\")\n",
    "plt.xticks(range(xtrain.shape[1]), indices)\n",
    "plt.xlim([-1, xtrain.shape[1]])\n",
    "plt.show()"
   ]
  },
  {
   "cell_type": "code",
   "execution_count": 10,
   "id": "4068ae8b",
   "metadata": {},
   "outputs": [
    {
     "data": {
      "image/png": "[encoded data removed]",
      "text/plain": [
       "<Figure size 432x288 with 1 Axes>"
      ]
     },
     "metadata": {
      "needs_background": "light"
     },
     "output_type": "display_data"
    }
   ],
   "source": [
    "predictions_validation = rfc.predict_proba(xtest)[:,1]\n",
    "fpr, tpr, _ = roc_curve(ytest, predictions_validation)\n",
    "roc_auc = auc(fpr, tpr)\n",
    "plt.title('ROC Validation')\n",
    "plt.plot(fpr, tpr, 'b', label='AUC = %0.2f' % roc_auc)\n",
    "plt.legend(loc='lower right')\n",
    "plt.plot([0, 1], [0, 1], 'r--')\n",
    "plt.xlim([0, 1])\n",
    "plt.ylim([0, 1])\n",
    "plt.ylabel('True Positive Rate')\n",
    "plt.xlabel('False Positive Rate')\n",
    "plt.show()"
   ]
  },
  {
   "cell_type": "code",
   "execution_count": 11,
   "id": "598947fc",
   "metadata": {},
   "outputs": [
    {
     "data": {
      "image/png": "[encoded data removed]",
      "text/plain": [
       "<Figure size 432x288 with 1 Axes>"
      ]
     },
     "metadata": {
      "needs_background": "light"
     },
     "output_type": "display_data"
    }
   ],
   "source": [
    "predictions_validation = rfc.predict_proba(xtrain)[:,1]\n",
    "fpr, tpr, _ = roc_curve(ytrain, predictions_validation)\n",
    "roc_auc = auc(fpr, tpr)\n",
    "plt.title('ROC Validation')\n",
    "plt.plot(fpr, tpr, 'b', label='AUC = %0.2f' % roc_auc)\n",
    "plt.legend(loc='lower right')\n",
    "plt.plot([0, 1], [0, 1], 'r--')\n",
    "plt.xlim([0, 1])\n",
    "plt.ylim([0, 1])\n",
    "plt.ylabel('True Positive Rate')\n",
    "plt.xlabel('False Positive Rate')\n",
    "plt.show()"
   ]
  },
  {
   "cell_type": "markdown",
   "id": "c9412945",
   "metadata": {},
   "source": [
    "# 5.调参\n",
    "\n",
    "网格搜索法搜索最优取值"
   ]
  },
  {
   "cell_type": "code",
   "execution_count": 59,
   "id": "604a931b",
   "metadata": {},
   "outputs": [
    {
     "name": "stdout",
     "output_type": "stream",
     "text": [
      "最大得分：0.7057142857142856 子树数量为：101\n"
     ]
    }
   ],
   "source": [
    "# 用学习曲线来调参才能看到数据变化的趋势。因为数据没有范围。\n",
    "#先看n_estimators大致的范围\n",
    "score_lt = []\n",
    "\n",
    "for i in range(0,200,10):\n",
    "    rfc = RandomForestClassifier(n_estimators=i+1,\n",
    "                                 n_jobs=-1,\n",
    "                                random_state=5)\n",
    "    score = cross_val_score(rfc,xtrain,ytrain, cv=10).mean()\n",
    "    score_lt.append(score)\n",
    "score_max = max(score_lt)\n",
    "print('最大得分：{}'.format(score_max),\n",
    "      '子树数量为：{}'.format(score_lt.index(score_max)*10+1))\n",
    "\n"
   ]
  },
  {
   "cell_type": "code",
   "execution_count": 60,
   "id": "49a7c799",
   "metadata": {
    "scrolled": false
   },
   "outputs": [
    {
     "data": {
      "image/png": "[encoded data removed]",
      "text/plain": [
       "<Figure size 432x288 with 1 Axes>"
      ]
     },
     "metadata": {
      "needs_background": "light"
     },
     "output_type": "display_data"
    }
   ],
   "source": [
    "# 绘制学习曲线，可以看到75\n",
    "x = np.arange(1,201,10)\n",
    "plt.subplot(111)\n",
    "plt.plot(x, score_lt, 'r-')\n",
    "plt.show()"
   ]
  },
  {
   "cell_type": "code",
   "execution_count": 61,
   "id": "345037f9",
   "metadata": {},
   "outputs": [
    {
     "name": "stdout",
     "output_type": "stream",
     "text": [
      "最大得分：0.7007142857142856 子树数量为：99\n"
     ]
    },
    {
     "data": {
      "image/png": "[encoded data removed]",
      "text/plain": [
       "<Figure size 432x288 with 1 Axes>"
      ]
     },
     "metadata": {
      "needs_background": "light"
     },
     "output_type": "display_data"
    }
   ],
   "source": [
    "score_lt1= []\n",
    "\n",
    "for i in range(75,100,1):\n",
    "    rfc = RandomForestClassifier(n_estimators=i,\n",
    "                                 n_jobs=-1,\n",
    "                                random_state=5)\n",
    "    score = cross_val_score(rfc,xtrain,ytrain, cv=10).mean()\n",
    "    score_lt1.append(score)\n",
    "score_max = max(score_lt1)\n",
    "print('最大得分：{}'.format(score_max),\n",
    "      '子树数量为：{}'.format(score_lt1.index(score_max)+75))\n",
    "\n",
    "x_size = np.arange(75,100,1)\n",
    "plt.subplot(111)\n",
    "plt.plot(x_size, score_lt1, 'r-')\n",
    "plt.show()#确定_estimators=91"
   ]
  },
  {
   "cell_type": "code",
   "execution_count": 14,
   "id": "5aef9809",
   "metadata": {},
   "outputs": [],
   "source": [
    "#同时调整多个参数运行缓慢\n",
    "#同时调整修改无法理解参数的组合，也不知道如何去修改\n",
    "\n"
   ]
  },
  {
   "cell_type": "code",
   "execution_count": 15,
   "id": "a6ab62a3",
   "metadata": {},
   "outputs": [
    {
     "name": "stdout",
     "output_type": "stream",
     "text": [
      "{'max_depth': 21} 0.8784864864864865\n"
     ]
    }
   ],
   "source": [
    "#调max_depth\n",
    "# 建立n_estimators为91的随机森林\n",
    "rfc = RandomForestClassifier(n_estimators=91, random_state=5)\n",
    "\n",
    "# 用网格搜索调整max_depth\n",
    "param_grid = {'max_depth':np.arange(1,40)}\n",
    "GS = GridSearchCV(rfc, param_grid, cv=10)\n",
    "GS.fit(xtrain, ytrain)\n",
    "\n",
    "best_param = GS.best_params_\n",
    "best_score = GS.best_score_\n",
    "print(best_param, best_score)#0.8784864864864865精度没有改变\n"
   ]
  },
  {
   "cell_type": "code",
   "execution_count": 17,
   "id": "0f34bf18",
   "metadata": {},
   "outputs": [
    {
     "name": "stdout",
     "output_type": "stream",
     "text": [
      "{'min_samples_leaf': 1} 0.8625045045045046\n"
     ]
    }
   ],
   "source": [
    "# 用网格搜索调整min_samples_leaf\n",
    "#max_features默认最小值是sqrt（sumfeatures），最大为sumfeatures\n",
    "#'min_samples_leaf'还是取1最好，那么就直接选择为默认1（'min_samples_leaf'在不指定的情况下默认为1）即可，因为超参数范围越小，程序跑的就越快。\n",
    "param_grid = {'min_samples_leaf':np.arange(1,51,1)}\n",
    "\n",
    "rfc = RandomForestClassifier(n_estimators=91\n",
    "                            ,random_state=5\n",
    "                             ,max_depth=3)\n",
    "GS = GridSearchCV(rfc, param_grid, cv=10)\n",
    "GS.fit(xtrain,ytrain)\n",
    "best_param = GS.best_params_\n",
    "best_score = GS.best_score_\n",
    "print(best_param, best_score) "
   ]
  },
  {
   "cell_type": "code",
   "execution_count": null,
   "id": "69fcc206",
   "metadata": {},
   "outputs": [],
   "source": [
    "# 用网格搜索调整min_samples_split,最小为2\n",
    "#默认2的时候效果最好\n",
    "param_grid = {'min_samples_split':np.arange(2,51,1)}\n",
    "\n",
    "rfc = RandomForestClassifier(n_estimators=91\n",
    "                            ,random_state=5\n",
    "                            ,max_depth=21\n",
    "                            ,min_samples_leaf=1)\n",
    "GS = GridSearchCV(rfc, param_grid, cv=10)\n",
    "GS.fit(xtrain,ytrain)\n",
    "best_param = GS.best_params_\n",
    "best_score = GS.best_score_\n",
    "print(best_param, best_score) "
   ]
  },
  {
   "cell_type": "code",
   "execution_count": null,
   "id": "5b657c44",
   "metadata": {},
   "outputs": [],
   "source": [
    "# 用网格搜索调整max_features\n",
    "#max_features默认最小值是sqrt（sumfeatures），最大为sumfeatures\n",
    "param_grid = {'max_features':np.arange(3,15)}\n",
    "\n",
    "rfc = RandomForestClassifier(n_estimators=91\n",
    "                            ,random_state=5\n",
    "                            ,max_depth=21\n",
    "                            ,min_samples_leaf=1\n",
    "                            ,min_samples_split=2)\n",
    "                           \n",
    "\n",
    "GS = GridSearchCV(rfc, param_grid, cv=10)\n",
    "GS.fit(xtrain,ytrain)\n",
    "best_param = GS.best_params_\n",
    "best_score = GS.best_score_\n",
    "print(best_param, best_score)   #参数提升0.8784864864864865到0.8824864864864864"
   ]
  },
  {
   "cell_type": "code",
   "execution_count": null,
   "id": "bd53eb92",
   "metadata": {},
   "outputs": [],
   "source": [
    "# 用网格搜索调整max_features\n",
    "#max_features默认最小值是sqrt（sumfeatures），最大为sumfeatures\n",
    "param_grid = {'criterion':['gini','entropy']}\n",
    "\n",
    "rfc = RandomForestClassifier(n_estimators=91\n",
    "                            ,random_state=5\n",
    ")\n",
    "GS = GridSearchCV(rfc, param_grid, cv=10)\n",
    "GS.fit(xtrain,ytrain)\n",
    "best_param = GS.best_params_\n",
    "best_score = GS.best_score_\n",
    "print(best_param, best_score)   #参数提升0.8784864864864865到0.8824864864864864"
   ]
  },
  {
   "cell_type": "code",
   "execution_count": null,
   "id": "8f6c4ba7",
   "metadata": {},
   "outputs": [],
   "source": [
    "rfc=RandomForestClassifier(n_estimators=91                           \n",
    "                           ,random_state=5\n",
    "                            ,max_depth=21\n",
    "                            ,min_samples_leaf=1\n",
    "                            ,min_samples_split=2\n",
    "                          ,max_features=4)\n",
    "score=cross_val_score(rfc,xtrain,ytrain,cv=10).mean()\n",
    "score\n",
    "rfc = rfc.fit(xtrain,ytrain)       #用训练集数据训练模型 "
   ]
  },
  {
   "cell_type": "code",
   "execution_count": null,
   "id": "63e35f26",
   "metadata": {},
   "outputs": [],
   "source": [
    "result = rfc.score(xtest,ytest)    #导入测试集，rfc的接口score计算的是模型准确率accuracy\n",
    "result \n"
   ]
  },
  {
   "cell_type": "code",
   "execution_count": null,
   "id": "062c4a98",
   "metadata": {},
   "outputs": [],
   "source": [
    "roc_auc_score(ytest, rfc.predict_proba(xtest)[:,1])"
   ]
  },
  {
   "cell_type": "code",
   "execution_count": null,
   "id": "f9689d5c",
   "metadata": {},
   "outputs": [],
   "source": [
    "predictions_validation = rfc.predict_proba(xtest)[:,1]\n",
    "fpr, tpr, _ = roc_curve(ytest, predictions_validation)\n",
    "roc_auc = auc(fpr, tpr)\n",
    "plt.title('ROC Validation')\n",
    "plt.plot(fpr, tpr, 'b', label='AUC = %0.2f' % roc_auc)\n",
    "plt.legend(loc='lower right')\n",
    "plt.plot([0, 1], [0, 1], 'r--')\n",
    "plt.xlim([0, 1])\n",
    "plt.ylim([0, 1])\n",
    "plt.ylabel('True Positive Rate')\n",
    "plt.xlabel('False Positive Rate')\n",
    "plt.show()"
   ]
  },
  {
   "cell_type": "code",
   "execution_count": null,
   "id": "e00b313c",
   "metadata": {},
   "outputs": [],
   "source": []
  }
 ],
 "metadata": {
  "kernelspec": {
   "display_name": "Python 3 (ipykernel)",
   "language": "python",
   "name": "python3"
  },
  "language_info": {
   "codemirror_mode": {
    "name": "ipython",
    "version": 3
   },
   "file_extension": ".py",
   "mimetype": "text/x-python",
   "name": "python",
   "nbconvert_exporter": "python",
   "pygments_lexer": "ipython3",
   "version": "3.9.7"
  }
 },
 "nbformat": 4,
 "nbformat_minor": 5
}
